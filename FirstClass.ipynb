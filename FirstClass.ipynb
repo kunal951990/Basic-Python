{
 "cells": [
  {
   "cell_type": "markdown",
   "metadata": {},
   "source": [
    "## First Class Function : \n",
    "Property 1: Being passed as an argument\n",
    "Property 2: Returned from a function\n",
    "Property32: Assigned to variable\n",
    "\n",
    "parenthesis means execting the function itself:\n",
    "whereas only name can be used to copy the functionality, check below examples:"
   ]
  },
  {
   "cell_type": "code",
   "execution_count": 2,
   "metadata": {},
   "outputs": [
    {
     "name": "stdout",
     "output_type": "stream",
     "text": [
      "25\n"
     ]
    }
   ],
   "source": [
    "def square(n):\n",
    "    return n*n\n",
    "\n",
    "f = square(5)\n",
    "print(f)"
   ]
  },
  {
   "cell_type": "code",
   "execution_count": 6,
   "metadata": {},
   "outputs": [
    {
     "name": "stdout",
     "output_type": "stream",
     "text": [
      "<function square at 0x000001C0C9FEA598>\n",
      "<function square at 0x000001C0C9FEA598>\n"
     ]
    }
   ],
   "source": [
    "# Assigning functionality to other varibale: which can be used as function itself\n",
    "def square(n):\n",
    "    return n*n\n",
    "\n",
    "f = square # Assigning the functionality to other variable\n",
    "print(f)\n",
    "print(square) # printing functions without parenthesis"
   ]
  },
  {
   "cell_type": "code",
   "execution_count": 5,
   "metadata": {},
   "outputs": [
    {
     "name": "stdout",
     "output_type": "stream",
     "text": [
      "25\n"
     ]
    }
   ],
   "source": [
    "# taking job done by the varibale on which functionality is copied.\n",
    "def square(n):\n",
    "    return n*n\n",
    "\n",
    "f = square\n",
    "print(f(5))"
   ]
  },
  {
   "cell_type": "code",
   "execution_count": 7,
   "metadata": {},
   "outputs": [
    {
     "name": "stdout",
     "output_type": "stream",
     "text": [
      "[1, 4, 9, 16, 25]\n"
     ]
    }
   ],
   "source": [
    "# taking a function as an argument\n",
    "\n",
    "def square(n): # taking square function\n",
    "    return n*n\n",
    "\n",
    "def cube(n):\n",
    "    return n*n*n\n",
    "\n",
    "def map_func(func, num):\n",
    "    result = []\n",
    "    result = [func(n) for n in num]\n",
    "    return result\n",
    "\n",
    "f = map_func(square,[1,2,3,4,5])  # taking square function as input for map_func\n",
    "print(f)"
   ]
  },
  {
   "cell_type": "code",
   "execution_count": 8,
   "metadata": {},
   "outputs": [
    {
     "name": "stdout",
     "output_type": "stream",
     "text": [
      "[1, 8, 27, 64, 125]\n"
     ]
    }
   ],
   "source": [
    "# taking a function as an argument\n",
    "\n",
    "def square(n):\n",
    "    return n*n\n",
    "\n",
    "def cube(n):  # taking square function\n",
    "    return n*n*n\n",
    "\n",
    "def map_func(func, num):\n",
    "    result = []\n",
    "    result = [func(n) for n in num]\n",
    "    return result\n",
    "\n",
    "f = map_func(cube,[1,2,3,4,5])  # taking cube function as input for map_func\n",
    "print(f)"
   ]
  },
  {
   "cell_type": "markdown",
   "metadata": {},
   "source": [
    "## Function recall :) its out of memory"
   ]
  },
  {
   "cell_type": "code",
   "execution_count": 13,
   "metadata": {},
   "outputs": [
    {
     "name": "stdout",
     "output_type": "stream",
     "text": [
      "Ram\n",
      "None\n"
     ]
    }
   ],
   "source": [
    "# if no return statement is given or no expression with return statement is given, function will return None\n",
    "def name():\n",
    "    print('Ram')\n",
    "    return\n",
    "\n",
    "f = square()\n",
    "print(f)"
   ]
  },
  {
   "cell_type": "code",
   "execution_count": 14,
   "metadata": {},
   "outputs": [
    {
     "name": "stdout",
     "output_type": "stream",
     "text": [
      "Ram\n",
      "None\n"
     ]
    }
   ],
   "source": [
    "# if no return statement is given or no expression with return statement is given, function will return None\n",
    "def name():\n",
    "    print('Ram')\n",
    "    #return\n",
    "\n",
    "f = square()\n",
    "print(f)"
   ]
  },
  {
   "cell_type": "code",
   "execution_count": 15,
   "metadata": {},
   "outputs": [
    {
     "name": "stdout",
     "output_type": "stream",
     "text": [
      "Ram\n",
      "None\n"
     ]
    }
   ],
   "source": [
    "# if no return statement is given or no expression with return statement is given, function will return None\n",
    "def name():\n",
    "    print('Ram')\n",
    "    return n\n",
    "\n",
    "f = square()\n",
    "print(f)"
   ]
  },
  {
   "cell_type": "code",
   "execution_count": 16,
   "metadata": {},
   "outputs": [
    {
     "name": "stdout",
     "output_type": "stream",
     "text": [
      "Ram\n",
      "None\n"
     ]
    }
   ],
   "source": [
    "# if no return statement is given or no expression with return statement is given, function will return None\n",
    "def name():\n",
    "    print('Ram')\n",
    "    return k\n",
    "\n",
    "f = square()\n",
    "print(f)"
   ]
  },
  {
   "cell_type": "code",
   "execution_count": 17,
   "metadata": {},
   "outputs": [
    {
     "name": "stdout",
     "output_type": "stream",
     "text": [
      "Ram\n",
      "None\n"
     ]
    }
   ],
   "source": [
    "# if no return statement is given or no expression with return statement is given, function will return None\n",
    "def name():\n",
    "    print('Ram')\n",
    "    return None\n",
    "\n",
    "f = square()\n",
    "print(f)"
   ]
  },
  {
   "cell_type": "code",
   "execution_count": 19,
   "metadata": {},
   "outputs": [
    {
     "name": "stdout",
     "output_type": "stream",
     "text": [
      "Ram\n",
      "None\n"
     ]
    }
   ],
   "source": [
    "# if no return statement is given or no expression with return statement is given, function will return None\n",
    "def name():\n",
    "    print('Ram')\n",
    "    return name()\n",
    "\n",
    "f = square()\n",
    "print(f)"
   ]
  },
  {
   "cell_type": "code",
   "execution_count": 20,
   "metadata": {},
   "outputs": [
    {
     "name": "stdout",
     "output_type": "stream",
     "text": [
      "Ram\n",
      "None\n"
     ]
    }
   ],
   "source": [
    "# if no return statement is given or no expression with return statement is given, function will return None\n",
    "def name():\n",
    "    print('Ram')\n",
    "    return name()\n",
    "\n",
    "f = square()\n",
    "print(f)"
   ]
  },
  {
   "cell_type": "code",
   "execution_count": 33,
   "metadata": {},
   "outputs": [
    {
     "name": "stdout",
     "output_type": "stream",
     "text": [
      "Name\n"
     ]
    }
   ],
   "source": [
    "# taking job done by the varibale on which functionality is copied.\n",
    "def printname():\n",
    "    print(\"Name\")\n",
    "\n",
    "    \n",
    "    \n",
    "printname()\n",
    "# f = printname\n",
    "# g = printname()\n",
    "\n",
    "# print(f)\n",
    "# print(g)\n",
    "# print(f())\n",
    "# print(g())\n",
    "# print(printname())"
   ]
  },
  {
   "cell_type": "code",
   "execution_count": 26,
   "metadata": {},
   "outputs": [
    {
     "name": "stdout",
     "output_type": "stream",
     "text": [
      "Name\n",
      "<function printname at 0x000001C0C9FEA7B8>\n",
      "None\n",
      "Name\n",
      "None\n"
     ]
    },
    {
     "ename": "TypeError",
     "evalue": "'NoneType' object is not callable",
     "output_type": "error",
     "traceback": [
      "\u001b[1;31m---------------------------------------------------------------------------\u001b[0m",
      "\u001b[1;31mTypeError\u001b[0m                                 Traceback (most recent call last)",
      "\u001b[1;32m<ipython-input-26-defc6313e323>\u001b[0m in \u001b[0;36m<module>\u001b[1;34m()\u001b[0m\n\u001b[0;32m      9\u001b[0m \u001b[0mprint\u001b[0m\u001b[1;33m(\u001b[0m\u001b[0mg\u001b[0m\u001b[1;33m)\u001b[0m\u001b[1;33m\u001b[0m\u001b[0m\n\u001b[0;32m     10\u001b[0m \u001b[0mprint\u001b[0m\u001b[1;33m(\u001b[0m\u001b[0mf\u001b[0m\u001b[1;33m(\u001b[0m\u001b[1;33m)\u001b[0m\u001b[1;33m)\u001b[0m\u001b[1;33m\u001b[0m\u001b[0m\n\u001b[1;32m---> 11\u001b[1;33m \u001b[0mprint\u001b[0m\u001b[1;33m(\u001b[0m\u001b[0mg\u001b[0m\u001b[1;33m(\u001b[0m\u001b[1;33m)\u001b[0m\u001b[1;33m)\u001b[0m\u001b[1;33m\u001b[0m\u001b[0m\n\u001b[0m",
      "\u001b[1;31mTypeError\u001b[0m: 'NoneType' object is not callable"
     ]
    }
   ],
   "source": [
    "# taking job done by the varibale on which functionality is copied.\n",
    "def printname():\n",
    "    print(\"Name\")\n",
    "\n",
    "f = printname\n",
    "g = printname()\n",
    "\n",
    "print(f)\n",
    "print(g)\n",
    "print(f())\n",
    "print(g())"
   ]
  },
  {
   "cell_type": "code",
   "execution_count": 27,
   "metadata": {},
   "outputs": [
    {
     "name": "stdout",
     "output_type": "stream",
     "text": [
      "Name\n",
      "<function printname at 0x000001C0C9FEA2F0>\n",
      "None\n",
      "Name\n",
      "None\n"
     ]
    },
    {
     "ename": "TypeError",
     "evalue": "'NoneType' object is not callable",
     "output_type": "error",
     "traceback": [
      "\u001b[1;31m---------------------------------------------------------------------------\u001b[0m",
      "\u001b[1;31mTypeError\u001b[0m                                 Traceback (most recent call last)",
      "\u001b[1;32m<ipython-input-27-defc6313e323>\u001b[0m in \u001b[0;36m<module>\u001b[1;34m()\u001b[0m\n\u001b[0;32m      9\u001b[0m \u001b[0mprint\u001b[0m\u001b[1;33m(\u001b[0m\u001b[0mg\u001b[0m\u001b[1;33m)\u001b[0m\u001b[1;33m\u001b[0m\u001b[0m\n\u001b[0;32m     10\u001b[0m \u001b[0mprint\u001b[0m\u001b[1;33m(\u001b[0m\u001b[0mf\u001b[0m\u001b[1;33m(\u001b[0m\u001b[1;33m)\u001b[0m\u001b[1;33m)\u001b[0m\u001b[1;33m\u001b[0m\u001b[0m\n\u001b[1;32m---> 11\u001b[1;33m \u001b[0mprint\u001b[0m\u001b[1;33m(\u001b[0m\u001b[0mg\u001b[0m\u001b[1;33m(\u001b[0m\u001b[1;33m)\u001b[0m\u001b[1;33m)\u001b[0m\u001b[1;33m\u001b[0m\u001b[0m\n\u001b[0m",
      "\u001b[1;31mTypeError\u001b[0m: 'NoneType' object is not callable"
     ]
    }
   ],
   "source": [
    "# taking job done by the varibale on which functionality is copied.\n",
    "def printname():\n",
    "    print(\"Name\")\n",
    "\n",
    "f = printname\n",
    "g = printname()\n",
    "\n",
    "print(f)\n",
    "print(g)\n",
    "print(f())\n",
    "print(g())"
   ]
  },
  {
   "cell_type": "code",
   "execution_count": 28,
   "metadata": {},
   "outputs": [
    {
     "name": "stdout",
     "output_type": "stream",
     "text": [
      "Name\n",
      "<function printname at 0x000001C0C9FEAC80>\n",
      "None\n",
      "Name\n",
      "None\n"
     ]
    },
    {
     "ename": "TypeError",
     "evalue": "'NoneType' object is not callable",
     "output_type": "error",
     "traceback": [
      "\u001b[1;31m---------------------------------------------------------------------------\u001b[0m",
      "\u001b[1;31mTypeError\u001b[0m                                 Traceback (most recent call last)",
      "\u001b[1;32m<ipython-input-28-defc6313e323>\u001b[0m in \u001b[0;36m<module>\u001b[1;34m()\u001b[0m\n\u001b[0;32m      9\u001b[0m \u001b[0mprint\u001b[0m\u001b[1;33m(\u001b[0m\u001b[0mg\u001b[0m\u001b[1;33m)\u001b[0m\u001b[1;33m\u001b[0m\u001b[0m\n\u001b[0;32m     10\u001b[0m \u001b[0mprint\u001b[0m\u001b[1;33m(\u001b[0m\u001b[0mf\u001b[0m\u001b[1;33m(\u001b[0m\u001b[1;33m)\u001b[0m\u001b[1;33m)\u001b[0m\u001b[1;33m\u001b[0m\u001b[0m\n\u001b[1;32m---> 11\u001b[1;33m \u001b[0mprint\u001b[0m\u001b[1;33m(\u001b[0m\u001b[0mg\u001b[0m\u001b[1;33m(\u001b[0m\u001b[1;33m)\u001b[0m\u001b[1;33m)\u001b[0m\u001b[1;33m\u001b[0m\u001b[0m\n\u001b[0m",
      "\u001b[1;31mTypeError\u001b[0m: 'NoneType' object is not callable"
     ]
    }
   ],
   "source": [
    "# taking job done by the varibale on which functionality is copied.\n",
    "def printname():\n",
    "    print(\"Name\")\n",
    "\n",
    "f = printname\n",
    "g = printname()\n",
    "\n",
    "print(f)\n",
    "print(g)\n",
    "print(f())\n",
    "print(g())"
   ]
  },
  {
   "cell_type": "code",
   "execution_count": 55,
   "metadata": {},
   "outputs": [
    {
     "name": "stdout",
     "output_type": "stream",
     "text": [
      "Name\n",
      "None\n"
     ]
    }
   ],
   "source": [
    "# Confucion desk\n",
    "def printname():\n",
    "    print(\"Name\")\n",
    "\n",
    "g = printname() # using parenthesis\n",
    "print(g)       # not using parenthesis"
   ]
  },
  {
   "cell_type": "code",
   "execution_count": 56,
   "metadata": {},
   "outputs": [
    {
     "name": "stdout",
     "output_type": "stream",
     "text": [
      "Name\n",
      "None\n"
     ]
    }
   ],
   "source": [
    "# Confucion desk\n",
    "def printname():\n",
    "    print(\"Name\")\n",
    "\n",
    "g = printname # not using parenthesis\n",
    "print(g()) # using parenthesis"
   ]
  },
  {
   "cell_type": "code",
   "execution_count": 57,
   "metadata": {},
   "outputs": [
    {
     "name": "stdout",
     "output_type": "stream",
     "text": [
      "Name\n"
     ]
    },
    {
     "ename": "TypeError",
     "evalue": "'NoneType' object is not callable",
     "output_type": "error",
     "traceback": [
      "\u001b[1;31m---------------------------------------------------------------------------\u001b[0m",
      "\u001b[1;31mTypeError\u001b[0m                                 Traceback (most recent call last)",
      "\u001b[1;32m<ipython-input-57-9073fac5da78>\u001b[0m in \u001b[0;36m<module>\u001b[1;34m()\u001b[0m\n\u001b[0;32m      4\u001b[0m \u001b[1;33m\u001b[0m\u001b[0m\n\u001b[0;32m      5\u001b[0m \u001b[0mg\u001b[0m \u001b[1;33m=\u001b[0m \u001b[0mprintname\u001b[0m\u001b[1;33m(\u001b[0m\u001b[1;33m)\u001b[0m \u001b[1;31m# using parenthesis\u001b[0m\u001b[1;33m\u001b[0m\u001b[0m\n\u001b[1;32m----> 6\u001b[1;33m \u001b[0mprint\u001b[0m\u001b[1;33m(\u001b[0m\u001b[0mg\u001b[0m\u001b[1;33m(\u001b[0m\u001b[1;33m)\u001b[0m\u001b[1;33m)\u001b[0m \u001b[1;31m# using parenthesis\u001b[0m\u001b[1;33m\u001b[0m\u001b[0m\n\u001b[0m",
      "\u001b[1;31mTypeError\u001b[0m: 'NoneType' object is not callable"
     ]
    }
   ],
   "source": [
    "# Confucion desk: Here i have used parenthsis twice for the same functionality so error is generated.\n",
    "def printname():\n",
    "    print(\"Name\")\n",
    "\n",
    "g = printname() # using parenthesis\n",
    "print(g()) # using parenthesis"
   ]
  },
  {
   "cell_type": "markdown",
   "metadata": {},
   "source": [
    "### Conclusion: Use parenthesis only once for a functionality"
   ]
  },
  {
   "cell_type": "code",
   "execution_count": 59,
   "metadata": {},
   "outputs": [
    {
     "ename": "SyntaxError",
     "evalue": "can't assign to function call (<ipython-input-59-06d5ab8de0d2>, line 5)",
     "output_type": "error",
     "traceback": [
      "\u001b[1;36m  File \u001b[1;32m\"<ipython-input-59-06d5ab8de0d2>\"\u001b[1;36m, line \u001b[1;32m5\u001b[0m\n\u001b[1;33m    g() = printname() # not using parenthesis\u001b[0m\n\u001b[1;37m                                             ^\u001b[0m\n\u001b[1;31mSyntaxError\u001b[0m\u001b[1;31m:\u001b[0m can't assign to function call\n"
     ]
    }
   ],
   "source": [
    "# Confucion desk\n",
    "def printname():\n",
    "    print(\"Name\")\n",
    "\n",
    "g() = printname() # using parenthesis twice\n",
    "print(g) "
   ]
  },
  {
   "cell_type": "code",
   "execution_count": 62,
   "metadata": {},
   "outputs": [
    {
     "name": "stdout",
     "output_type": "stream",
     "text": [
      "Name\n",
      "None\n"
     ]
    }
   ],
   "source": [
    "# Confucion desk\n",
    "def printname():\n",
    "    print(\"Name\")\n",
    "\n",
    "g = printname \n",
    "print(g()) # using parenthesis"
   ]
  },
  {
   "cell_type": "code",
   "execution_count": 63,
   "metadata": {},
   "outputs": [
    {
     "name": "stdout",
     "output_type": "stream",
     "text": [
      "Name\n",
      "None\n"
     ]
    }
   ],
   "source": [
    "# Confucion desk\n",
    "def printname():\n",
    "    print(\"Name\")\n",
    "\n",
    "g = printname() # using parenthesis\n",
    "print(g)"
   ]
  },
  {
   "cell_type": "markdown",
   "metadata": {},
   "source": [
    "## Resuming FirstClass Function:"
   ]
  },
  {
   "cell_type": "code",
   "execution_count": 67,
   "metadata": {},
   "outputs": [
    {
     "name": "stdout",
     "output_type": "stream",
     "text": [
      "Log: Hi\n"
     ]
    }
   ],
   "source": [
    "# returning a funtion from function i.e closure\n",
    "def logger(msg):\n",
    "    \n",
    "    def log():\n",
    "        print(\"Log:\",msg)\n",
    "        \n",
    "    return log\n",
    "\n",
    "f = logger('Hi')\n",
    "f()"
   ]
  },
  {
   "cell_type": "code",
   "execution_count": 68,
   "metadata": {},
   "outputs": [
    {
     "name": "stdout",
     "output_type": "stream",
     "text": [
      "<h1>Test Headline!</h1>\n",
      "<h1>Another Headline!</h1>\n",
      "<p>Test Paragraph!</p>\n"
     ]
    }
   ],
   "source": [
    "def html_tag(tag):\n",
    "\n",
    "    def wrap_text(msg):\n",
    "        print('<{0}>{1}</{0}>'.format(tag, msg))\n",
    "\n",
    "    return wrap_text\n",
    "\n",
    "print_h1 = html_tag('h1')\n",
    "print_h1('Test Headline!')\n",
    "print_h1('Another Headline!')\n",
    "\n",
    "print_p = html_tag('p')\n",
    "print_p('Test Paragraph!')"
   ]
  },
  {
   "cell_type": "code",
   "execution_count": null,
   "metadata": {},
   "outputs": [],
   "source": []
  }
 ],
 "metadata": {
  "kernelspec": {
   "display_name": "Python 3",
   "language": "python",
   "name": "python3"
  },
  "language_info": {
   "codemirror_mode": {
    "name": "ipython",
    "version": 3
   },
   "file_extension": ".py",
   "mimetype": "text/x-python",
   "name": "python",
   "nbconvert_exporter": "python",
   "pygments_lexer": "ipython3",
   "version": "3.6.5"
  }
 },
 "nbformat": 4,
 "nbformat_minor": 2
}
