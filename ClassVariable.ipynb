{
 "cells": [
  {
   "cell_type": "code",
   "execution_count": 13,
   "metadata": {},
   "outputs": [
    {
     "name": "stdout",
     "output_type": "stream",
     "text": [
      "25000\n",
      "35000.0\n",
      "35000.0\n",
      "2\n"
     ]
    }
   ],
   "source": [
    "class Employee:\n",
    "    number_of_employee = 0 # Class varibale which is just for class so wherever we will use it we will call it with class name.\n",
    "    raise_amount = 1.4 # Class Variable which may be in future needs to be updated according to instance.\n",
    "    def __init__(self,first,last,pay):\n",
    "        self.first= first\n",
    "        self.last = last\n",
    "        self.pay = pay\n",
    "        self.email = first + '.' + '@company.com'\n",
    "        \n",
    "        Employee.number_of_employee += 1\n",
    "    def amount_hike(self):\n",
    "        return self.pay * self.raise_amount # so using instance , so that we can chnage and operate accoring to instance.\n",
    "\n",
    "emp1 = Employee('Ram','Kishan',25000) \n",
    "emp2 = Employee('Shyam','Kiran',35000)   \n",
    "\n",
    "print(emp1.pay)\n",
    "print(emp1.amount_hike())\n",
    "print(Employee.amount_hike(emp1))\n",
    "print(Employee.number_of_employee)"
   ]
  },
  {
   "cell_type": "code",
   "execution_count": 8,
   "metadata": {},
   "outputs": [
    {
     "name": "stdout",
     "output_type": "stream",
     "text": [
      "{'first': 'Ram', 'last': 'Kishan', 'pay': 25000, 'email': 'Ram.@company.com'}\n"
     ]
    }
   ],
   "source": [
    "# down we can see emp1 i.e instance has no option of raise_amount only first,last,pay and email.\n",
    "print(emp1.__dict__) "
   ]
  },
  {
   "cell_type": "code",
   "execution_count": 9,
   "metadata": {},
   "outputs": [
    {
     "name": "stdout",
     "output_type": "stream",
     "text": [
      "{'__module__': '__main__', 'raise_amount': 1.4, '__init__': <function Employee.__init__ at 0x000001D3D296C840>, 'amount_hike': <function Employee.amount_hike at 0x000001D3D296C730>, '__dict__': <attribute '__dict__' of 'Employee' objects>, '__weakref__': <attribute '__weakref__' of 'Employee' objects>, '__doc__': None}\n"
     ]
    }
   ],
   "source": [
    "# down we can see Employee i.e Class has option of raise_amount also.\n",
    "print(Employee.__dict__) "
   ]
  },
  {
   "cell_type": "markdown",
   "metadata": {},
   "source": [
    "## Class varibales can be accessed by instances."
   ]
  },
  {
   "cell_type": "code",
   "execution_count": 10,
   "metadata": {},
   "outputs": [
    {
     "name": "stdout",
     "output_type": "stream",
     "text": [
      "{'first': 'Ram', 'last': 'Kishan', 'pay': 25000, 'email': 'Ram.@company.com', 'raise_amount': 1.05}\n"
     ]
    }
   ],
   "source": [
    "emp1.raise_amount = 1.05\n",
    "print(emp1.__dict__) "
   ]
  },
  {
   "cell_type": "code",
   "execution_count": null,
   "metadata": {},
   "outputs": [],
   "source": []
  }
 ],
 "metadata": {
  "kernelspec": {
   "display_name": "Python 3",
   "language": "python",
   "name": "python3"
  },
  "language_info": {
   "codemirror_mode": {
    "name": "ipython",
    "version": 3
   },
   "file_extension": ".py",
   "mimetype": "text/x-python",
   "name": "python",
   "nbconvert_exporter": "python",
   "pygments_lexer": "ipython3",
   "version": "3.6.5"
  }
 },
 "nbformat": 4,
 "nbformat_minor": 2
}
