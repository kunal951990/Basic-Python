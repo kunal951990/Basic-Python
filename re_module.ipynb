{
 "cells": [
  {
   "cell_type": "markdown",
   "metadata": {},
   "source": [
    "## To do operations on raw strings"
   ]
  },
  {
   "cell_type": "code",
   "execution_count": 1,
   "metadata": {},
   "outputs": [],
   "source": [
    "import re"
   ]
  },
  {
   "cell_type": "code",
   "execution_count": 2,
   "metadata": {},
   "outputs": [
    {
     "name": "stdout",
     "output_type": "stream",
     "text": [
      "\tTab\n"
     ]
    }
   ],
   "source": [
    "print('\\tTab')"
   ]
  },
  {
   "cell_type": "code",
   "execution_count": 3,
   "metadata": {},
   "outputs": [
    {
     "name": "stdout",
     "output_type": "stream",
     "text": [
      "\\tTab\n"
     ]
    }
   ],
   "source": [
    "print(r'\\tTab')"
   ]
  },
  {
   "cell_type": "code",
   "execution_count": 18,
   "metadata": {},
   "outputs": [],
   "source": [
    "# example strings for operation\n",
    "text_to_search = '''\n",
    "abcdefghijklmnopqurtuvwxyz\n",
    "ABCDEFGHIJKLMNOPQRSTUVWXYZ\n",
    "1234567890\n",
    "Ha HaHa\n",
    "MetaCharacters (Need to be escaped):\n",
    ". ^ $ * + ? { } [ ] \\ | ( )\n",
    "gmail.com\n",
    "321-555-4321\n",
    "123.555.1234\n",
    "123*555*1234\n",
    "800-555-1234\n",
    "900-555-1234\n",
    "Mr. Schafer\n",
    "Mr Smith\n",
    "Ms Davis\n",
    "Mrs. Robinson\n",
    "Mr. T\n",
    "'''"
   ]
  },
  {
   "cell_type": "code",
   "execution_count": 19,
   "metadata": {},
   "outputs": [],
   "source": [
    "pattern = re.compile(r'ghi')"
   ]
  },
  {
   "cell_type": "code",
   "execution_count": 20,
   "metadata": {},
   "outputs": [],
   "source": [
    "matches = pattern.finditer(text_to_search)"
   ]
  },
  {
   "cell_type": "code",
   "execution_count": 21,
   "metadata": {},
   "outputs": [
    {
     "name": "stdout",
     "output_type": "stream",
     "text": [
      "<_sre.SRE_Match object; span=(7, 10), match='ghi'>\n"
     ]
    }
   ],
   "source": [
    "for match in matches:\n",
    "    print(match)"
   ]
  },
  {
   "cell_type": "code",
   "execution_count": 22,
   "metadata": {},
   "outputs": [
    {
     "name": "stdout",
     "output_type": "stream",
     "text": [
      "ghi\n"
     ]
    }
   ],
   "source": [
    "print(text_to_search[7:10])"
   ]
  },
  {
   "cell_type": "code",
   "execution_count": 23,
   "metadata": {},
   "outputs": [
    {
     "name": "stdout",
     "output_type": "stream",
     "text": [
      "<_sre.SRE_Match object; span=(1, 2), match='a'>\n",
      "<_sre.SRE_Match object; span=(2, 3), match='b'>\n",
      "<_sre.SRE_Match object; span=(3, 4), match='c'>\n",
      "<_sre.SRE_Match object; span=(4, 5), match='d'>\n",
      "<_sre.SRE_Match object; span=(5, 6), match='e'>\n",
      "<_sre.SRE_Match object; span=(6, 7), match='f'>\n",
      "<_sre.SRE_Match object; span=(7, 8), match='g'>\n",
      "<_sre.SRE_Match object; span=(8, 9), match='h'>\n",
      "<_sre.SRE_Match object; span=(9, 10), match='i'>\n",
      "<_sre.SRE_Match object; span=(10, 11), match='j'>\n",
      "<_sre.SRE_Match object; span=(11, 12), match='k'>\n",
      "<_sre.SRE_Match object; span=(12, 13), match='l'>\n",
      "<_sre.SRE_Match object; span=(13, 14), match='m'>\n",
      "<_sre.SRE_Match object; span=(14, 15), match='n'>\n",
      "<_sre.SRE_Match object; span=(15, 16), match='o'>\n",
      "<_sre.SRE_Match object; span=(16, 17), match='p'>\n",
      "<_sre.SRE_Match object; span=(17, 18), match='q'>\n",
      "<_sre.SRE_Match object; span=(18, 19), match='u'>\n",
      "<_sre.SRE_Match object; span=(19, 20), match='r'>\n",
      "<_sre.SRE_Match object; span=(20, 21), match='t'>\n",
      "<_sre.SRE_Match object; span=(21, 22), match='u'>\n",
      "<_sre.SRE_Match object; span=(22, 23), match='v'>\n",
      "<_sre.SRE_Match object; span=(23, 24), match='w'>\n",
      "<_sre.SRE_Match object; span=(24, 25), match='x'>\n",
      "<_sre.SRE_Match object; span=(25, 26), match='y'>\n",
      "<_sre.SRE_Match object; span=(26, 27), match='z'>\n",
      "<_sre.SRE_Match object; span=(28, 29), match='A'>\n",
      "<_sre.SRE_Match object; span=(29, 30), match='B'>\n",
      "<_sre.SRE_Match object; span=(30, 31), match='C'>\n",
      "<_sre.SRE_Match object; span=(31, 32), match='D'>\n",
      "<_sre.SRE_Match object; span=(32, 33), match='E'>\n",
      "<_sre.SRE_Match object; span=(33, 34), match='F'>\n",
      "<_sre.SRE_Match object; span=(34, 35), match='G'>\n",
      "<_sre.SRE_Match object; span=(35, 36), match='H'>\n",
      "<_sre.SRE_Match object; span=(36, 37), match='I'>\n",
      "<_sre.SRE_Match object; span=(37, 38), match='J'>\n",
      "<_sre.SRE_Match object; span=(38, 39), match='K'>\n",
      "<_sre.SRE_Match object; span=(39, 40), match='L'>\n",
      "<_sre.SRE_Match object; span=(40, 41), match='M'>\n",
      "<_sre.SRE_Match object; span=(41, 42), match='N'>\n",
      "<_sre.SRE_Match object; span=(42, 43), match='O'>\n",
      "<_sre.SRE_Match object; span=(43, 44), match='P'>\n",
      "<_sre.SRE_Match object; span=(44, 45), match='Q'>\n",
      "<_sre.SRE_Match object; span=(45, 46), match='R'>\n",
      "<_sre.SRE_Match object; span=(46, 47), match='S'>\n",
      "<_sre.SRE_Match object; span=(47, 48), match='T'>\n",
      "<_sre.SRE_Match object; span=(48, 49), match='U'>\n",
      "<_sre.SRE_Match object; span=(49, 50), match='V'>\n",
      "<_sre.SRE_Match object; span=(50, 51), match='W'>\n",
      "<_sre.SRE_Match object; span=(51, 52), match='X'>\n",
      "<_sre.SRE_Match object; span=(52, 53), match='Y'>\n",
      "<_sre.SRE_Match object; span=(53, 54), match='Z'>\n",
      "<_sre.SRE_Match object; span=(55, 56), match='1'>\n",
      "<_sre.SRE_Match object; span=(56, 57), match='2'>\n",
      "<_sre.SRE_Match object; span=(57, 58), match='3'>\n",
      "<_sre.SRE_Match object; span=(58, 59), match='4'>\n",
      "<_sre.SRE_Match object; span=(59, 60), match='5'>\n",
      "<_sre.SRE_Match object; span=(60, 61), match='6'>\n",
      "<_sre.SRE_Match object; span=(61, 62), match='7'>\n",
      "<_sre.SRE_Match object; span=(62, 63), match='8'>\n",
      "<_sre.SRE_Match object; span=(63, 64), match='9'>\n",
      "<_sre.SRE_Match object; span=(64, 65), match='0'>\n",
      "<_sre.SRE_Match object; span=(66, 67), match='H'>\n",
      "<_sre.SRE_Match object; span=(67, 68), match='a'>\n",
      "<_sre.SRE_Match object; span=(68, 69), match=' '>\n",
      "<_sre.SRE_Match object; span=(69, 70), match='H'>\n",
      "<_sre.SRE_Match object; span=(70, 71), match='a'>\n",
      "<_sre.SRE_Match object; span=(71, 72), match='H'>\n",
      "<_sre.SRE_Match object; span=(72, 73), match='a'>\n",
      "<_sre.SRE_Match object; span=(74, 75), match='M'>\n",
      "<_sre.SRE_Match object; span=(75, 76), match='e'>\n",
      "<_sre.SRE_Match object; span=(76, 77), match='t'>\n",
      "<_sre.SRE_Match object; span=(77, 78), match='a'>\n",
      "<_sre.SRE_Match object; span=(78, 79), match='C'>\n",
      "<_sre.SRE_Match object; span=(79, 80), match='h'>\n",
      "<_sre.SRE_Match object; span=(80, 81), match='a'>\n",
      "<_sre.SRE_Match object; span=(81, 82), match='r'>\n",
      "<_sre.SRE_Match object; span=(82, 83), match='a'>\n",
      "<_sre.SRE_Match object; span=(83, 84), match='c'>\n",
      "<_sre.SRE_Match object; span=(84, 85), match='t'>\n",
      "<_sre.SRE_Match object; span=(85, 86), match='e'>\n",
      "<_sre.SRE_Match object; span=(86, 87), match='r'>\n",
      "<_sre.SRE_Match object; span=(87, 88), match='s'>\n",
      "<_sre.SRE_Match object; span=(88, 89), match=' '>\n",
      "<_sre.SRE_Match object; span=(89, 90), match='('>\n",
      "<_sre.SRE_Match object; span=(90, 91), match='N'>\n",
      "<_sre.SRE_Match object; span=(91, 92), match='e'>\n",
      "<_sre.SRE_Match object; span=(92, 93), match='e'>\n",
      "<_sre.SRE_Match object; span=(93, 94), match='d'>\n",
      "<_sre.SRE_Match object; span=(94, 95), match=' '>\n",
      "<_sre.SRE_Match object; span=(95, 96), match='t'>\n",
      "<_sre.SRE_Match object; span=(96, 97), match='o'>\n",
      "<_sre.SRE_Match object; span=(97, 98), match=' '>\n",
      "<_sre.SRE_Match object; span=(98, 99), match='b'>\n",
      "<_sre.SRE_Match object; span=(99, 100), match='e'>\n",
      "<_sre.SRE_Match object; span=(100, 101), match=' '>\n",
      "<_sre.SRE_Match object; span=(101, 102), match='e'>\n",
      "<_sre.SRE_Match object; span=(102, 103), match='s'>\n",
      "<_sre.SRE_Match object; span=(103, 104), match='c'>\n",
      "<_sre.SRE_Match object; span=(104, 105), match='a'>\n",
      "<_sre.SRE_Match object; span=(105, 106), match='p'>\n",
      "<_sre.SRE_Match object; span=(106, 107), match='e'>\n",
      "<_sre.SRE_Match object; span=(107, 108), match='d'>\n",
      "<_sre.SRE_Match object; span=(108, 109), match=')'>\n",
      "<_sre.SRE_Match object; span=(109, 110), match=':'>\n",
      "<_sre.SRE_Match object; span=(111, 112), match='.'>\n",
      "<_sre.SRE_Match object; span=(112, 113), match=' '>\n",
      "<_sre.SRE_Match object; span=(113, 114), match='^'>\n",
      "<_sre.SRE_Match object; span=(114, 115), match=' '>\n",
      "<_sre.SRE_Match object; span=(115, 116), match='$'>\n",
      "<_sre.SRE_Match object; span=(116, 117), match=' '>\n",
      "<_sre.SRE_Match object; span=(117, 118), match='*'>\n",
      "<_sre.SRE_Match object; span=(118, 119), match=' '>\n",
      "<_sre.SRE_Match object; span=(119, 120), match='+'>\n",
      "<_sre.SRE_Match object; span=(120, 121), match=' '>\n",
      "<_sre.SRE_Match object; span=(121, 122), match='?'>\n",
      "<_sre.SRE_Match object; span=(122, 123), match=' '>\n",
      "<_sre.SRE_Match object; span=(123, 124), match='{'>\n",
      "<_sre.SRE_Match object; span=(124, 125), match=' '>\n",
      "<_sre.SRE_Match object; span=(125, 126), match='}'>\n",
      "<_sre.SRE_Match object; span=(126, 127), match=' '>\n",
      "<_sre.SRE_Match object; span=(127, 128), match='['>\n",
      "<_sre.SRE_Match object; span=(128, 129), match=' '>\n",
      "<_sre.SRE_Match object; span=(129, 130), match=']'>\n",
      "<_sre.SRE_Match object; span=(130, 131), match=' '>\n",
      "<_sre.SRE_Match object; span=(131, 132), match='\\\\'>\n",
      "<_sre.SRE_Match object; span=(132, 133), match=' '>\n",
      "<_sre.SRE_Match object; span=(133, 134), match='|'>\n",
      "<_sre.SRE_Match object; span=(134, 135), match=' '>\n",
      "<_sre.SRE_Match object; span=(135, 136), match='('>\n",
      "<_sre.SRE_Match object; span=(136, 137), match=' '>\n",
      "<_sre.SRE_Match object; span=(137, 138), match=')'>\n",
      "<_sre.SRE_Match object; span=(139, 140), match='g'>\n",
      "<_sre.SRE_Match object; span=(140, 141), match='m'>\n",
      "<_sre.SRE_Match object; span=(141, 142), match='a'>\n",
      "<_sre.SRE_Match object; span=(142, 143), match='i'>\n",
      "<_sre.SRE_Match object; span=(143, 144), match='l'>\n",
      "<_sre.SRE_Match object; span=(144, 145), match='.'>\n",
      "<_sre.SRE_Match object; span=(145, 146), match='c'>\n",
      "<_sre.SRE_Match object; span=(146, 147), match='o'>\n",
      "<_sre.SRE_Match object; span=(147, 148), match='m'>\n",
      "<_sre.SRE_Match object; span=(149, 150), match='3'>\n",
      "<_sre.SRE_Match object; span=(150, 151), match='2'>\n",
      "<_sre.SRE_Match object; span=(151, 152), match='1'>\n",
      "<_sre.SRE_Match object; span=(152, 153), match='-'>\n",
      "<_sre.SRE_Match object; span=(153, 154), match='5'>\n",
      "<_sre.SRE_Match object; span=(154, 155), match='5'>\n",
      "<_sre.SRE_Match object; span=(155, 156), match='5'>\n",
      "<_sre.SRE_Match object; span=(156, 157), match='-'>\n",
      "<_sre.SRE_Match object; span=(157, 158), match='4'>\n",
      "<_sre.SRE_Match object; span=(158, 159), match='3'>\n",
      "<_sre.SRE_Match object; span=(159, 160), match='2'>\n",
      "<_sre.SRE_Match object; span=(160, 161), match='1'>\n",
      "<_sre.SRE_Match object; span=(162, 163), match='1'>\n",
      "<_sre.SRE_Match object; span=(163, 164), match='2'>\n",
      "<_sre.SRE_Match object; span=(164, 165), match='3'>\n",
      "<_sre.SRE_Match object; span=(165, 166), match='.'>\n",
      "<_sre.SRE_Match object; span=(166, 167), match='5'>\n",
      "<_sre.SRE_Match object; span=(167, 168), match='5'>\n",
      "<_sre.SRE_Match object; span=(168, 169), match='5'>\n",
      "<_sre.SRE_Match object; span=(169, 170), match='.'>\n",
      "<_sre.SRE_Match object; span=(170, 171), match='1'>\n",
      "<_sre.SRE_Match object; span=(171, 172), match='2'>\n",
      "<_sre.SRE_Match object; span=(172, 173), match='3'>\n",
      "<_sre.SRE_Match object; span=(173, 174), match='4'>\n",
      "<_sre.SRE_Match object; span=(175, 176), match='1'>\n",
      "<_sre.SRE_Match object; span=(176, 177), match='2'>\n",
      "<_sre.SRE_Match object; span=(177, 178), match='3'>\n",
      "<_sre.SRE_Match object; span=(178, 179), match='*'>\n",
      "<_sre.SRE_Match object; span=(179, 180), match='5'>\n",
      "<_sre.SRE_Match object; span=(180, 181), match='5'>\n",
      "<_sre.SRE_Match object; span=(181, 182), match='5'>\n",
      "<_sre.SRE_Match object; span=(182, 183), match='*'>\n",
      "<_sre.SRE_Match object; span=(183, 184), match='1'>\n",
      "<_sre.SRE_Match object; span=(184, 185), match='2'>\n",
      "<_sre.SRE_Match object; span=(185, 186), match='3'>\n",
      "<_sre.SRE_Match object; span=(186, 187), match='4'>\n",
      "<_sre.SRE_Match object; span=(188, 189), match='8'>\n",
      "<_sre.SRE_Match object; span=(189, 190), match='0'>\n",
      "<_sre.SRE_Match object; span=(190, 191), match='0'>\n",
      "<_sre.SRE_Match object; span=(191, 192), match='-'>\n",
      "<_sre.SRE_Match object; span=(192, 193), match='5'>\n",
      "<_sre.SRE_Match object; span=(193, 194), match='5'>\n",
      "<_sre.SRE_Match object; span=(194, 195), match='5'>\n",
      "<_sre.SRE_Match object; span=(195, 196), match='-'>\n",
      "<_sre.SRE_Match object; span=(196, 197), match='1'>\n",
      "<_sre.SRE_Match object; span=(197, 198), match='2'>\n",
      "<_sre.SRE_Match object; span=(198, 199), match='3'>\n",
      "<_sre.SRE_Match object; span=(199, 200), match='4'>\n",
      "<_sre.SRE_Match object; span=(201, 202), match='9'>\n",
      "<_sre.SRE_Match object; span=(202, 203), match='0'>\n",
      "<_sre.SRE_Match object; span=(203, 204), match='0'>\n",
      "<_sre.SRE_Match object; span=(204, 205), match='-'>\n",
      "<_sre.SRE_Match object; span=(205, 206), match='5'>\n",
      "<_sre.SRE_Match object; span=(206, 207), match='5'>\n",
      "<_sre.SRE_Match object; span=(207, 208), match='5'>\n",
      "<_sre.SRE_Match object; span=(208, 209), match='-'>\n",
      "<_sre.SRE_Match object; span=(209, 210), match='1'>\n",
      "<_sre.SRE_Match object; span=(210, 211), match='2'>\n",
      "<_sre.SRE_Match object; span=(211, 212), match='3'>\n",
      "<_sre.SRE_Match object; span=(212, 213), match='4'>\n",
      "<_sre.SRE_Match object; span=(214, 215), match='M'>\n",
      "<_sre.SRE_Match object; span=(215, 216), match='r'>\n",
      "<_sre.SRE_Match object; span=(216, 217), match='.'>\n",
      "<_sre.SRE_Match object; span=(217, 218), match=' '>\n",
      "<_sre.SRE_Match object; span=(218, 219), match='S'>\n",
      "<_sre.SRE_Match object; span=(219, 220), match='c'>\n",
      "<_sre.SRE_Match object; span=(220, 221), match='h'>\n",
      "<_sre.SRE_Match object; span=(221, 222), match='a'>\n",
      "<_sre.SRE_Match object; span=(222, 223), match='f'>\n",
      "<_sre.SRE_Match object; span=(223, 224), match='e'>\n",
      "<_sre.SRE_Match object; span=(224, 225), match='r'>\n",
      "<_sre.SRE_Match object; span=(226, 227), match='M'>\n",
      "<_sre.SRE_Match object; span=(227, 228), match='r'>\n",
      "<_sre.SRE_Match object; span=(228, 229), match=' '>\n",
      "<_sre.SRE_Match object; span=(229, 230), match='S'>\n",
      "<_sre.SRE_Match object; span=(230, 231), match='m'>\n",
      "<_sre.SRE_Match object; span=(231, 232), match='i'>\n",
      "<_sre.SRE_Match object; span=(232, 233), match='t'>\n",
      "<_sre.SRE_Match object; span=(233, 234), match='h'>\n",
      "<_sre.SRE_Match object; span=(235, 236), match='M'>\n",
      "<_sre.SRE_Match object; span=(236, 237), match='s'>\n",
      "<_sre.SRE_Match object; span=(237, 238), match=' '>\n",
      "<_sre.SRE_Match object; span=(238, 239), match='D'>\n",
      "<_sre.SRE_Match object; span=(239, 240), match='a'>\n",
      "<_sre.SRE_Match object; span=(240, 241), match='v'>\n",
      "<_sre.SRE_Match object; span=(241, 242), match='i'>\n",
      "<_sre.SRE_Match object; span=(242, 243), match='s'>\n",
      "<_sre.SRE_Match object; span=(244, 245), match='M'>\n",
      "<_sre.SRE_Match object; span=(245, 246), match='r'>\n",
      "<_sre.SRE_Match object; span=(246, 247), match='s'>\n",
      "<_sre.SRE_Match object; span=(247, 248), match='.'>\n",
      "<_sre.SRE_Match object; span=(248, 249), match=' '>\n",
      "<_sre.SRE_Match object; span=(249, 250), match='R'>\n",
      "<_sre.SRE_Match object; span=(250, 251), match='o'>\n",
      "<_sre.SRE_Match object; span=(251, 252), match='b'>\n",
      "<_sre.SRE_Match object; span=(252, 253), match='i'>\n",
      "<_sre.SRE_Match object; span=(253, 254), match='n'>\n",
      "<_sre.SRE_Match object; span=(254, 255), match='s'>\n",
      "<_sre.SRE_Match object; span=(255, 256), match='o'>\n",
      "<_sre.SRE_Match object; span=(256, 257), match='n'>\n",
      "<_sre.SRE_Match object; span=(258, 259), match='M'>\n",
      "<_sre.SRE_Match object; span=(259, 260), match='r'>\n",
      "<_sre.SRE_Match object; span=(260, 261), match='.'>\n",
      "<_sre.SRE_Match object; span=(261, 262), match=' '>\n",
      "<_sre.SRE_Match object; span=(262, 263), match='T'>\n"
     ]
    }
   ],
   "source": [
    "# . is a special character, it will match with all data\n",
    "pattern = re.compile(r'.')\n",
    "matches = pattern.finditer(text_to_search)\n",
    "\n",
    "for match in matches:\n",
    "    print(match)"
   ]
  },
  {
   "cell_type": "code",
   "execution_count": 24,
   "metadata": {},
   "outputs": [
    {
     "name": "stdout",
     "output_type": "stream",
     "text": [
      "pq\n"
     ]
    }
   ],
   "source": [
    "print(text_to_search[16:18])"
   ]
  },
  {
   "cell_type": "markdown",
   "metadata": {},
   "source": [
    "## MetaCharacters (Need to be escaped):\n",
    ". ^ $ * + ? { } [ ] \\ | ( )"
   ]
  },
  {
   "cell_type": "code",
   "execution_count": 25,
   "metadata": {},
   "outputs": [
    {
     "name": "stdout",
     "output_type": "stream",
     "text": [
      "<_sre.SRE_Match object; span=(111, 112), match='.'>\n",
      "<_sre.SRE_Match object; span=(144, 145), match='.'>\n",
      "<_sre.SRE_Match object; span=(165, 166), match='.'>\n",
      "<_sre.SRE_Match object; span=(169, 170), match='.'>\n",
      "<_sre.SRE_Match object; span=(216, 217), match='.'>\n",
      "<_sre.SRE_Match object; span=(247, 248), match='.'>\n",
      "<_sre.SRE_Match object; span=(260, 261), match='.'>\n"
     ]
    }
   ],
   "source": [
    "pattern = re.compile(r'\\.')\n",
    "matches = pattern.finditer(text_to_search)\n",
    "\n",
    "for match in matches:\n",
    "    print(match)"
   ]
  },
  {
   "cell_type": "code",
   "execution_count": 26,
   "metadata": {},
   "outputs": [
    {
     "name": "stdout",
     "output_type": "stream",
     "text": [
      ". ^ $ \n",
      "om\n",
      "3\n"
     ]
    }
   ],
   "source": [
    "print(text_to_search[111:117])\n",
    "print(text_to_search[146:150])"
   ]
  },
  {
   "cell_type": "code",
   "execution_count": 28,
   "metadata": {},
   "outputs": [
    {
     "name": "stdout",
     "output_type": "stream",
     "text": [
      "<_sre.SRE_Match object; span=(139, 148), match='gmail.com'>\n"
     ]
    }
   ],
   "source": [
    "# to find gmail.com\n",
    "pattern = re.compile(r'gmail\\.com')\n",
    "matches = pattern.finditer(text_to_search)\n",
    "\n",
    "for match in matches:\n",
    "    print(match)"
   ]
  },
  {
   "cell_type": "code",
   "execution_count": 30,
   "metadata": {},
   "outputs": [
    {
     "name": "stdout",
     "output_type": "stream",
     "text": [
      "<_sre.SRE_Match object; span=(149, 161), match='321-555-4321'>\n",
      "<_sre.SRE_Match object; span=(162, 174), match='123.555.1234'>\n",
      "<_sre.SRE_Match object; span=(175, 187), match='123*555*1234'>\n",
      "<_sre.SRE_Match object; span=(188, 200), match='800-555-1234'>\n",
      "<_sre.SRE_Match object; span=(201, 213), match='900-555-1234'>\n"
     ]
    }
   ],
   "source": [
    "# to find a number pattern like 321-555-4321\n",
    "# .       - Any Character Except New Line\n",
    "# \\d      - Digit (0-9)\n",
    "\n",
    "pattern = re.compile(r'\\d\\d\\d.\\d\\d\\d.\\d\\d\\d\\d')\n",
    "matches = pattern.finditer(text_to_search)\n",
    "\n",
    "for match in matches:\n",
    "    print(match)"
   ]
  },
  {
   "cell_type": "code",
   "execution_count": 31,
   "metadata": {},
   "outputs": [
    {
     "name": "stdout",
     "output_type": "stream",
     "text": [
      "<_sre.SRE_Match object; span=(162, 174), match='123.555.1234'>\n"
     ]
    }
   ],
   "source": [
    "# to find a number pattern like 321-555-4321\n",
    "# .       - Any Character Except New Line\n",
    "# \\d      - Digit (0-9)\n",
    "\n",
    "pattern = re.compile(r'\\d\\d\\d\\.\\d\\d\\d\\.\\d\\d\\d\\d')\n",
    "matches = pattern.finditer(text_to_search)\n",
    "\n",
    "for match in matches:\n",
    "    print(match)"
   ]
  },
  {
   "cell_type": "markdown",
   "metadata": {},
   "source": [
    "## metacharacter and sign representation in 're'\n",
    ".       - Any Character Except New Line\n",
    "\\d      - Digit (0-9)\n",
    "\\D      - Not a Digit (0-9)\n",
    "\\w      - Word Character (a-z, A-Z, 0-9, _)\n",
    "\\W      - Not a Word Character\n",
    "\\s      - Whitespace (space, tab, newline)\n",
    "\\S      - Not Whitespace (space, tab, newline)\n",
    "\n",
    "\\b      - Word Boundary\n",
    "\\B      - Not a Word Boundary\n",
    "^       - Beginning of a String\n",
    "$       - End of a String\n",
    "\n",
    "[]      - Matches Characters in brackets\n",
    "[^ ]    - Matches Characters NOT in brackets\n",
    "|       - Either Or\n",
    "( )     - Group\n",
    "\n",
    "Quantifiers:\n",
    "*       - 0 or More\n",
    "+       - 1 or More\n",
    "?       - 0 or One\n",
    "{3}     - Exact Number\n",
    "{3,4}   - Range of Numbers (Minimum, Maximum)\n"
   ]
  },
  {
   "cell_type": "code",
   "execution_count": 39,
   "metadata": {},
   "outputs": [
    {
     "name": "stdout",
     "output_type": "stream",
     "text": [
      "<_sre.SRE_Match object; span=(12, 24), match='615-555-7164'>\n",
      "<_sre.SRE_Match object; span=(25, 37), match='213*314*4567'>\n",
      "<_sre.SRE_Match object; span=(115, 127), match='800-555-5669'>\n",
      "<_sre.SRE_Match object; span=(204, 216), match='560-555-5153'>\n",
      "<_sre.SRE_Match object; span=(294, 306), match='900-555-9340'>\n",
      "<_sre.SRE_Match object; span=(391, 403), match='714-555-7405'>\n",
      "<_sre.SRE_Match object; span=(480, 492), match='800-555-6771'>\n",
      "<_sre.SRE_Match object; span=(570, 582), match='783-555-4799'>\n",
      "<_sre.SRE_Match object; span=(660, 672), match='516-555-4615'>\n",
      "<_sre.SRE_Match object; span=(753, 765), match='127-555-1867'>\n",
      "<_sre.SRE_Match object; span=(842, 854), match='608-555-4938'>\n",
      "<_sre.SRE_Match object; span=(928, 940), match='568-555-6051'>\n",
      "<_sre.SRE_Match object; span=(1016, 1028), match='292-555-1875'>\n",
      "<_sre.SRE_Match object; span=(1104, 1116), match='900-555-3205'>\n",
      "<_sre.SRE_Match object; span=(1193, 1205), match='614-555-1166'>\n",
      "<_sre.SRE_Match object; span=(1282, 1294), match='530-555-2676'>\n",
      "<_sre.SRE_Match object; span=(1368, 1380), match='470-555-2750'>\n",
      "<_sre.SRE_Match object; span=(1452, 1464), match='800-555-6089'>\n",
      "<_sre.SRE_Match object; span=(1539, 1551), match='880-555-8319'>\n",
      "<_sre.SRE_Match object; span=(1627, 1639), match='777-555-8378'>\n",
      "<_sre.SRE_Match object; span=(1710, 1722), match='998-555-7385'>\n",
      "<_sre.SRE_Match object; span=(1803, 1815), match='800-555-7100'>\n",
      "<_sre.SRE_Match object; span=(1887, 1899), match='903-555-8277'>\n",
      "<_sre.SRE_Match object; span=(1975, 1987), match='196-555-5674'>\n",
      "<_sre.SRE_Match object; span=(2064, 2076), match='900-555-5118'>\n",
      "<_sre.SRE_Match object; span=(2148, 2160), match='905-555-1630'>\n",
      "<_sre.SRE_Match object; span=(2229, 2241), match='203-555-3475'>\n",
      "<_sre.SRE_Match object; span=(2313, 2325), match='884-555-8444'>\n",
      "<_sre.SRE_Match object; span=(2400, 2412), match='904-555-8559'>\n",
      "<_sre.SRE_Match object; span=(2488, 2500), match='889-555-7393'>\n",
      "<_sre.SRE_Match object; span=(2575, 2587), match='195-555-2405'>\n",
      "<_sre.SRE_Match object; span=(2660, 2672), match='321-555-9053'>\n",
      "<_sre.SRE_Match object; span=(2747, 2759), match='133-555-1711'>\n",
      "<_sre.SRE_Match object; span=(2839, 2851), match='900-555-5428'>\n",
      "<_sre.SRE_Match object; span=(2928, 2940), match='760-555-7147'>\n",
      "<_sre.SRE_Match object; span=(3025, 3037), match='391-555-6621'>\n",
      "<_sre.SRE_Match object; span=(3116, 3128), match='932-555-7724'>\n",
      "<_sre.SRE_Match object; span=(3205, 3217), match='609-555-7908'>\n",
      "<_sre.SRE_Match object; span=(3297, 3309), match='800-555-8810'>\n",
      "<_sre.SRE_Match object; span=(3385, 3397), match='149-555-7657'>\n",
      "<_sre.SRE_Match object; span=(3465, 3477), match='130-555-9709'>\n",
      "<_sre.SRE_Match object; span=(3548, 3560), match='143-555-9295'>\n",
      "<_sre.SRE_Match object; span=(3637, 3649), match='903-555-9878'>\n",
      "<_sre.SRE_Match object; span=(3727, 3739), match='574-555-3194'>\n",
      "<_sre.SRE_Match object; span=(3815, 3827), match='496-555-7533'>\n",
      "<_sre.SRE_Match object; span=(3900, 3912), match='210-555-3757'>\n",
      "<_sre.SRE_Match object; span=(3984, 3996), match='900-555-9598'>\n",
      "<_sre.SRE_Match object; span=(4069, 4081), match='866-555-9844'>\n",
      "<_sre.SRE_Match object; span=(4153, 4165), match='669-555-7159'>\n",
      "<_sre.SRE_Match object; span=(4238, 4250), match='152-555-7417'>\n",
      "<_sre.SRE_Match object; span=(4330, 4342), match='893-555-9832'>\n",
      "<_sre.SRE_Match object; span=(4420, 4432), match='217-555-7123'>\n",
      "<_sre.SRE_Match object; span=(4511, 4523), match='786-555-6544'>\n",
      "<_sre.SRE_Match object; span=(4601, 4613), match='780-555-2574'>\n",
      "<_sre.SRE_Match object; span=(4689, 4701), match='926-555-8735'>\n",
      "<_sre.SRE_Match object; span=(4775, 4787), match='895-555-3539'>\n",
      "<_sre.SRE_Match object; span=(4872, 4884), match='874-555-3949'>\n",
      "<_sre.SRE_Match object; span=(4958, 4970), match='800-555-2420'>\n",
      "<_sre.SRE_Match object; span=(5047, 5059), match='936-555-6340'>\n",
      "<_sre.SRE_Match object; span=(5136, 5148), match='372-555-9809'>\n",
      "<_sre.SRE_Match object; span=(5223, 5235), match='890-555-5618'>\n",
      "<_sre.SRE_Match object; span=(5305, 5317), match='670-555-3005'>\n",
      "<_sre.SRE_Match object; span=(5395, 5407), match='509-555-5997'>\n",
      "<_sre.SRE_Match object; span=(5488, 5500), match='721-555-5632'>\n",
      "<_sre.SRE_Match object; span=(5579, 5591), match='900-555-3567'>\n",
      "<_sre.SRE_Match object; span=(5669, 5681), match='147-555-6830'>\n",
      "<_sre.SRE_Match object; span=(5758, 5770), match='582-555-3426'>\n",
      "<_sre.SRE_Match object; span=(5843, 5855), match='400-555-1706'>\n",
      "<_sre.SRE_Match object; span=(5934, 5946), match='525-555-1793'>\n",
      "<_sre.SRE_Match object; span=(6024, 6036), match='317-555-6700'>\n",
      "<_sre.SRE_Match object; span=(6112, 6124), match='974-555-8301'>\n",
      "<_sre.SRE_Match object; span=(6202, 6214), match='800-555-3216'>\n",
      "<_sre.SRE_Match object; span=(6286, 6298), match='746-555-4094'>\n",
      "<_sre.SRE_Match object; span=(6373, 6385), match='922-555-1773'>\n",
      "<_sre.SRE_Match object; span=(6458, 6470), match='711-555-4427'>\n",
      "<_sre.SRE_Match object; span=(6543, 6555), match='355-555-1872'>\n",
      "<_sre.SRE_Match object; span=(6632, 6644), match='852-555-6521'>\n",
      "<_sre.SRE_Match object; span=(6724, 6736), match='691-555-5773'>\n",
      "<_sre.SRE_Match object; span=(6816, 6828), match='332-555-5441'>\n",
      "<_sre.SRE_Match object; span=(6902, 6914), match='900-555-7755'>\n",
      "<_sre.SRE_Match object; span=(6984, 6996), match='379-555-3685'>\n",
      "<_sre.SRE_Match object; span=(7074, 7086), match='127-555-9682'>\n",
      "<_sre.SRE_Match object; span=(7165, 7177), match='789-555-7032'>\n",
      "<_sre.SRE_Match object; span=(7256, 7268), match='783-555-5135'>\n",
      "<_sre.SRE_Match object; span=(7349, 7361), match='315-555-6507'>\n",
      "<_sre.SRE_Match object; span=(7440, 7452), match='481-555-5835'>\n",
      "<_sre.SRE_Match object; span=(7528, 7540), match='365-555-8287'>\n",
      "<_sre.SRE_Match object; span=(7620, 7632), match='911-555-7535'>\n",
      "<_sre.SRE_Match object; span=(7706, 7718), match='681-555-2460'>\n",
      "<_sre.SRE_Match object; span=(7792, 7804), match='274-555-9800'>\n",
      "<_sre.SRE_Match object; span=(7877, 7889), match='800-555-1372'>\n",
      "<_sre.SRE_Match object; span=(7966, 7978), match='300-555-7821'>\n",
      "<_sre.SRE_Match object; span=(8056, 8068), match='133-555-3889'>\n",
      "<_sre.SRE_Match object; span=(8142, 8154), match='705-555-6863'>\n",
      "<_sre.SRE_Match object; span=(8231, 8243), match='215-555-9449'>\n",
      "<_sre.SRE_Match object; span=(8322, 8334), match='988-555-6112'>\n",
      "<_sre.SRE_Match object; span=(8408, 8420), match='623-555-3006'>\n",
      "<_sre.SRE_Match object; span=(8492, 8504), match='192-555-4977'>\n",
      "<_sre.SRE_Match object; span=(8577, 8589), match='178-555-4899'>\n",
      "<_sre.SRE_Match object; span=(8661, 8673), match='952-555-3089'>\n",
      "<_sre.SRE_Match object; span=(8754, 8766), match='900-555-6426'>\n"
     ]
    }
   ],
   "source": [
    "# finding all mobile numebrs in some text file\n",
    "\n",
    "pattern = re.compile(r'\\d\\d\\d.\\d\\d\\d.\\d\\d\\d\\d')\n",
    "\n",
    "with open('name_number.txt','r') as f:\n",
    "    contents = f.read()\n",
    "    \n",
    "    matches = pattern.finditer(contents)\n",
    "    \n",
    "    for match in matches:\n",
    "       print(match)"
   ]
  },
  {
   "cell_type": "code",
   "execution_count": 40,
   "metadata": {},
   "outputs": [
    {
     "name": "stdout",
     "output_type": "stream",
     "text": [
      "<_sre.SRE_Match object; span=(12, 24), match='615-555-7164'>\n",
      "<_sre.SRE_Match object; span=(115, 127), match='800-555-5669'>\n",
      "<_sre.SRE_Match object; span=(204, 216), match='560-555-5153'>\n",
      "<_sre.SRE_Match object; span=(294, 306), match='900-555-9340'>\n",
      "<_sre.SRE_Match object; span=(391, 403), match='714-555-7405'>\n",
      "<_sre.SRE_Match object; span=(480, 492), match='800-555-6771'>\n",
      "<_sre.SRE_Match object; span=(570, 582), match='783-555-4799'>\n",
      "<_sre.SRE_Match object; span=(660, 672), match='516-555-4615'>\n",
      "<_sre.SRE_Match object; span=(753, 765), match='127-555-1867'>\n",
      "<_sre.SRE_Match object; span=(842, 854), match='608-555-4938'>\n",
      "<_sre.SRE_Match object; span=(928, 940), match='568-555-6051'>\n",
      "<_sre.SRE_Match object; span=(1016, 1028), match='292-555-1875'>\n",
      "<_sre.SRE_Match object; span=(1104, 1116), match='900-555-3205'>\n",
      "<_sre.SRE_Match object; span=(1193, 1205), match='614-555-1166'>\n",
      "<_sre.SRE_Match object; span=(1282, 1294), match='530-555-2676'>\n",
      "<_sre.SRE_Match object; span=(1368, 1380), match='470-555-2750'>\n",
      "<_sre.SRE_Match object; span=(1452, 1464), match='800-555-6089'>\n",
      "<_sre.SRE_Match object; span=(1539, 1551), match='880-555-8319'>\n",
      "<_sre.SRE_Match object; span=(1627, 1639), match='777-555-8378'>\n",
      "<_sre.SRE_Match object; span=(1710, 1722), match='998-555-7385'>\n",
      "<_sre.SRE_Match object; span=(1803, 1815), match='800-555-7100'>\n",
      "<_sre.SRE_Match object; span=(1887, 1899), match='903-555-8277'>\n",
      "<_sre.SRE_Match object; span=(1975, 1987), match='196-555-5674'>\n",
      "<_sre.SRE_Match object; span=(2064, 2076), match='900-555-5118'>\n",
      "<_sre.SRE_Match object; span=(2148, 2160), match='905-555-1630'>\n",
      "<_sre.SRE_Match object; span=(2229, 2241), match='203-555-3475'>\n",
      "<_sre.SRE_Match object; span=(2313, 2325), match='884-555-8444'>\n",
      "<_sre.SRE_Match object; span=(2400, 2412), match='904-555-8559'>\n",
      "<_sre.SRE_Match object; span=(2488, 2500), match='889-555-7393'>\n",
      "<_sre.SRE_Match object; span=(2575, 2587), match='195-555-2405'>\n",
      "<_sre.SRE_Match object; span=(2660, 2672), match='321-555-9053'>\n",
      "<_sre.SRE_Match object; span=(2747, 2759), match='133-555-1711'>\n",
      "<_sre.SRE_Match object; span=(2839, 2851), match='900-555-5428'>\n",
      "<_sre.SRE_Match object; span=(2928, 2940), match='760-555-7147'>\n",
      "<_sre.SRE_Match object; span=(3025, 3037), match='391-555-6621'>\n",
      "<_sre.SRE_Match object; span=(3116, 3128), match='932-555-7724'>\n",
      "<_sre.SRE_Match object; span=(3205, 3217), match='609-555-7908'>\n",
      "<_sre.SRE_Match object; span=(3297, 3309), match='800-555-8810'>\n",
      "<_sre.SRE_Match object; span=(3385, 3397), match='149-555-7657'>\n",
      "<_sre.SRE_Match object; span=(3465, 3477), match='130-555-9709'>\n",
      "<_sre.SRE_Match object; span=(3548, 3560), match='143-555-9295'>\n",
      "<_sre.SRE_Match object; span=(3637, 3649), match='903-555-9878'>\n",
      "<_sre.SRE_Match object; span=(3727, 3739), match='574-555-3194'>\n",
      "<_sre.SRE_Match object; span=(3815, 3827), match='496-555-7533'>\n",
      "<_sre.SRE_Match object; span=(3900, 3912), match='210-555-3757'>\n",
      "<_sre.SRE_Match object; span=(3984, 3996), match='900-555-9598'>\n",
      "<_sre.SRE_Match object; span=(4069, 4081), match='866-555-9844'>\n",
      "<_sre.SRE_Match object; span=(4153, 4165), match='669-555-7159'>\n",
      "<_sre.SRE_Match object; span=(4238, 4250), match='152-555-7417'>\n",
      "<_sre.SRE_Match object; span=(4330, 4342), match='893-555-9832'>\n",
      "<_sre.SRE_Match object; span=(4420, 4432), match='217-555-7123'>\n",
      "<_sre.SRE_Match object; span=(4511, 4523), match='786-555-6544'>\n",
      "<_sre.SRE_Match object; span=(4601, 4613), match='780-555-2574'>\n",
      "<_sre.SRE_Match object; span=(4689, 4701), match='926-555-8735'>\n",
      "<_sre.SRE_Match object; span=(4775, 4787), match='895-555-3539'>\n",
      "<_sre.SRE_Match object; span=(4872, 4884), match='874-555-3949'>\n",
      "<_sre.SRE_Match object; span=(4958, 4970), match='800-555-2420'>\n",
      "<_sre.SRE_Match object; span=(5047, 5059), match='936-555-6340'>\n",
      "<_sre.SRE_Match object; span=(5136, 5148), match='372-555-9809'>\n",
      "<_sre.SRE_Match object; span=(5223, 5235), match='890-555-5618'>\n",
      "<_sre.SRE_Match object; span=(5305, 5317), match='670-555-3005'>\n",
      "<_sre.SRE_Match object; span=(5395, 5407), match='509-555-5997'>\n",
      "<_sre.SRE_Match object; span=(5488, 5500), match='721-555-5632'>\n",
      "<_sre.SRE_Match object; span=(5579, 5591), match='900-555-3567'>\n",
      "<_sre.SRE_Match object; span=(5669, 5681), match='147-555-6830'>\n",
      "<_sre.SRE_Match object; span=(5758, 5770), match='582-555-3426'>\n",
      "<_sre.SRE_Match object; span=(5843, 5855), match='400-555-1706'>\n",
      "<_sre.SRE_Match object; span=(5934, 5946), match='525-555-1793'>\n",
      "<_sre.SRE_Match object; span=(6024, 6036), match='317-555-6700'>\n",
      "<_sre.SRE_Match object; span=(6112, 6124), match='974-555-8301'>\n",
      "<_sre.SRE_Match object; span=(6202, 6214), match='800-555-3216'>\n",
      "<_sre.SRE_Match object; span=(6286, 6298), match='746-555-4094'>\n",
      "<_sre.SRE_Match object; span=(6373, 6385), match='922-555-1773'>\n",
      "<_sre.SRE_Match object; span=(6458, 6470), match='711-555-4427'>\n",
      "<_sre.SRE_Match object; span=(6543, 6555), match='355-555-1872'>\n",
      "<_sre.SRE_Match object; span=(6632, 6644), match='852-555-6521'>\n",
      "<_sre.SRE_Match object; span=(6724, 6736), match='691-555-5773'>\n",
      "<_sre.SRE_Match object; span=(6816, 6828), match='332-555-5441'>\n",
      "<_sre.SRE_Match object; span=(6902, 6914), match='900-555-7755'>\n",
      "<_sre.SRE_Match object; span=(6984, 6996), match='379-555-3685'>\n",
      "<_sre.SRE_Match object; span=(7074, 7086), match='127-555-9682'>\n",
      "<_sre.SRE_Match object; span=(7165, 7177), match='789-555-7032'>\n",
      "<_sre.SRE_Match object; span=(7256, 7268), match='783-555-5135'>\n",
      "<_sre.SRE_Match object; span=(7349, 7361), match='315-555-6507'>\n",
      "<_sre.SRE_Match object; span=(7440, 7452), match='481-555-5835'>\n",
      "<_sre.SRE_Match object; span=(7528, 7540), match='365-555-8287'>\n",
      "<_sre.SRE_Match object; span=(7620, 7632), match='911-555-7535'>\n",
      "<_sre.SRE_Match object; span=(7706, 7718), match='681-555-2460'>\n",
      "<_sre.SRE_Match object; span=(7792, 7804), match='274-555-9800'>\n",
      "<_sre.SRE_Match object; span=(7877, 7889), match='800-555-1372'>\n",
      "<_sre.SRE_Match object; span=(7966, 7978), match='300-555-7821'>\n",
      "<_sre.SRE_Match object; span=(8056, 8068), match='133-555-3889'>\n",
      "<_sre.SRE_Match object; span=(8142, 8154), match='705-555-6863'>\n",
      "<_sre.SRE_Match object; span=(8231, 8243), match='215-555-9449'>\n",
      "<_sre.SRE_Match object; span=(8322, 8334), match='988-555-6112'>\n",
      "<_sre.SRE_Match object; span=(8408, 8420), match='623-555-3006'>\n",
      "<_sre.SRE_Match object; span=(8492, 8504), match='192-555-4977'>\n",
      "<_sre.SRE_Match object; span=(8577, 8589), match='178-555-4899'>\n",
      "<_sre.SRE_Match object; span=(8661, 8673), match='952-555-3089'>\n",
      "<_sre.SRE_Match object; span=(8754, 8766), match='900-555-6426'>\n"
     ]
    }
   ],
   "source": [
    "# finding all mobile numebrs except the one (213*314*4567) having different separator than character in some text file\n",
    "# we use [-.] if we want only - and . as separator\n",
    "\n",
    "pattern = re.compile(r'\\d\\d\\d[-.]\\d\\d\\d[-.]\\d\\d\\d\\d')\n",
    "\n",
    "with open('name_number.txt','r') as f:\n",
    "    contents = f.read()\n",
    "    \n",
    "    matches = pattern.finditer(contents)\n",
    "    \n",
    "    for match in matches:\n",
    "       print(match)"
   ]
  },
  {
   "cell_type": "code",
   "execution_count": null,
   "metadata": {},
   "outputs": [],
   "source": []
  }
 ],
 "metadata": {
  "kernelspec": {
   "display_name": "Python 3",
   "language": "python",
   "name": "python3"
  },
  "language_info": {
   "codemirror_mode": {
    "name": "ipython",
    "version": 3
   },
   "file_extension": ".py",
   "mimetype": "text/x-python",
   "name": "python",
   "nbconvert_exporter": "python",
   "pygments_lexer": "ipython3",
   "version": "3.6.5"
  }
 },
 "nbformat": 4,
 "nbformat_minor": 2
}
