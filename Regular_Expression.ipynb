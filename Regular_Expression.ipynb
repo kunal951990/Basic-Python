{
 "cells": [
  {
   "cell_type": "code",
   "execution_count": 1,
   "metadata": {},
   "outputs": [],
   "source": [
    "import re"
   ]
  },
  {
   "cell_type": "code",
   "execution_count": 20,
   "metadata": {},
   "outputs": [],
   "source": [
    "text = '''\n",
    "abcdefghijklmnopqurtuvwxyz\n",
    "ABCDEFGHIJKLMNOPQRSTUVWXYZ\n",
    "1234567890\n",
    "Ha HaHa\n",
    "MetaCharacters (Need to be escaped):\n",
    ". ^ $ * + ? { } [ ] \\ | ( )\n",
    "kunal222@gmail.com\n",
    "ravi12345@gmail.com\n",
    "rajan.123@gmail.com\n",
    "gmail.com\n",
    "321-555-4321\n",
    "123.555.1234\n",
    "123*555*1234\n",
    "800-555-1234\n",
    "900-555-1234\n",
    "Mr. Schafer\n",
    "Mr Smith\n",
    "Ms Davis\n",
    "Mrs. Robinson\n",
    "Mr. T\n",
    "'''"
   ]
  },
  {
   "cell_type": "code",
   "execution_count": 4,
   "metadata": {},
   "outputs": [
    {
     "name": "stdout",
     "output_type": "stream",
     "text": [
      "Help on function compile in module re:\n",
      "\n",
      "compile(pattern, flags=0)\n",
      "    Compile a regular expression pattern, returning a pattern object.\n",
      "\n"
     ]
    }
   ],
   "source": [
    "help(re.compile)"
   ]
  },
  {
   "cell_type": "code",
   "execution_count": 17,
   "metadata": {},
   "outputs": [
    {
     "name": "stdout",
     "output_type": "stream",
     "text": [
      "<_sre.SRE_Match object; span=(7, 10), match='ghi'>\n"
     ]
    }
   ],
   "source": [
    "pattern = re.compile(r'ghi')\n",
    "match = pattern.finditer(text)\n",
    "for i in match:\n",
    "    print(i)"
   ]
  },
  {
   "cell_type": "code",
   "execution_count": 18,
   "metadata": {},
   "outputs": [
    {
     "name": "stdout",
     "output_type": "stream",
     "text": [
      "ghi\n"
     ]
    }
   ],
   "source": [
    "print(text[7:10])"
   ]
  },
  {
   "cell_type": "code",
   "execution_count": 19,
   "metadata": {},
   "outputs": [
    {
     "name": "stdout",
     "output_type": "stream",
     "text": [
      "<_sre.SRE_Match object; span=(149, 161), match='321-555-4321'>\n",
      "<_sre.SRE_Match object; span=(162, 174), match='123.555.1234'>\n",
      "<_sre.SRE_Match object; span=(175, 187), match='123*555*1234'>\n",
      "<_sre.SRE_Match object; span=(188, 200), match='800-555-1234'>\n",
      "<_sre.SRE_Match object; span=(201, 213), match='900-555-1234'>\n"
     ]
    }
   ],
   "source": [
    "# pattern to find landline numbers\n",
    "pattern = re.compile(r'\\d\\d\\d.\\d\\d\\d.\\d\\d\\d\\d')\n",
    "match = pattern.finditer(text)\n",
    "for i in match:\n",
    "    print(i)"
   ]
  },
  {
   "cell_type": "code",
   "execution_count": 22,
   "metadata": {},
   "outputs": [
    {
     "name": "stdout",
     "output_type": "stream",
     "text": [
      "<_sre.SRE_Match object; span=(221, 233), match='123.555.1234'>\n"
     ]
    }
   ],
   "source": [
    "# pattern to find landline numbers\n",
    "pattern = re.compile(r'\\d\\d\\d\\.\\d\\d\\d\\.\\d\\d\\d\\d')\n",
    "match = pattern.finditer(text)\n",
    "for i in match:\n",
    "    print(i)"
   ]
  },
  {
   "cell_type": "code",
   "execution_count": 23,
   "metadata": {},
   "outputs": [
    {
     "name": "stdout",
     "output_type": "stream",
     "text": [
      "<_sre.SRE_Match object; span=(221, 233), match='123.555.1234'>\n"
     ]
    }
   ],
   "source": [
    "# pattern to find landline numbers\n",
    "pattern = re.compile(r'\\d\\d\\d[.]\\d\\d\\d[.]\\d\\d\\d\\d')\n",
    "match = pattern.finditer(text)\n",
    "for i in match:\n",
    "    print(i)"
   ]
  },
  {
   "cell_type": "code",
   "execution_count": 24,
   "metadata": {},
   "outputs": [
    {
     "name": "stdout",
     "output_type": "stream",
     "text": [
      "<_sre.SRE_Match object; span=(208, 220), match='321-555-4321'>\n",
      "<_sre.SRE_Match object; span=(247, 259), match='800-555-1234'>\n",
      "<_sre.SRE_Match object; span=(260, 272), match='900-555-1234'>\n"
     ]
    }
   ],
   "source": [
    "# pattern to find landline numbers\n",
    "pattern = re.compile(r'\\d\\d\\d[-]\\d\\d\\d[-]\\d\\d\\d\\d')\n",
    "match = pattern.finditer(text)\n",
    "for i in match:\n",
    "    print(i)"
   ]
  },
  {
   "cell_type": "code",
   "execution_count": 25,
   "metadata": {},
   "outputs": [
    {
     "name": "stdout",
     "output_type": "stream",
     "text": [
      "<_sre.SRE_Match object; span=(208, 220), match='321-555-4321'>\n",
      "<_sre.SRE_Match object; span=(221, 233), match='123.555.1234'>\n",
      "<_sre.SRE_Match object; span=(247, 259), match='800-555-1234'>\n",
      "<_sre.SRE_Match object; span=(260, 272), match='900-555-1234'>\n"
     ]
    }
   ],
   "source": [
    "# pattern to find landline numbers\n",
    "pattern = re.compile(r'\\d\\d\\d[.-]\\d\\d\\d[.-]\\d\\d\\d\\d')\n",
    "match = pattern.finditer(text)\n",
    "for i in match:\n",
    "    print(i)"
   ]
  },
  {
   "cell_type": "code",
   "execution_count": 29,
   "metadata": {},
   "outputs": [
    {
     "name": "stdout",
     "output_type": "stream",
     "text": [
      "<_sre.SRE_Match object; span=(208, 220), match='321-555-4321'>\n",
      "<_sre.SRE_Match object; span=(221, 233), match='123.555.1234'>\n",
      "<_sre.SRE_Match object; span=(234, 246), match='123*555*1234'>\n",
      "<_sre.SRE_Match object; span=(247, 259), match='800-555-1234'>\n",
      "<_sre.SRE_Match object; span=(260, 272), match='900-555-1234'>\n"
     ]
    }
   ],
   "source": [
    "# pattern to find landline numbers\n",
    "pattern = re.compile(r'\\d\\d\\d[*-.]\\d\\d\\d[*-.]\\d\\d\\d\\d')\n",
    "match = pattern.finditer(text)\n",
    "for i in match:\n",
    "    print(i)"
   ]
  },
  {
   "cell_type": "code",
   "execution_count": 35,
   "metadata": {
    "scrolled": true
   },
   "outputs": [
    {
     "name": "stdout",
     "output_type": "stream",
     "text": [
      "<_sre.SRE_Match object; span=(208, 220), match='321-555-4321'>\n",
      "<_sre.SRE_Match object; span=(221, 233), match='123.555.1234'>\n",
      "<_sre.SRE_Match object; span=(234, 246), match='123*555*1234'>\n",
      "<_sre.SRE_Match object; span=(247, 259), match='800-555-1234'>\n",
      "<_sre.SRE_Match object; span=(260, 272), match='900-555-1234'>\n"
     ]
    }
   ],
   "source": [
    "# pattern to find landline numbers\n",
    "pattern = re.compile(r'\\d\\d\\d[.*-]\\d\\d\\d[.*-]\\d\\d\\d\\d')\n",
    "match = pattern.finditer(text)\n",
    "for i in match:\n",
    "    print(i)"
   ]
  },
  {
   "cell_type": "code",
   "execution_count": 37,
   "metadata": {},
   "outputs": [
    {
     "name": "stdout",
     "output_type": "stream",
     "text": [
      "<_sre.SRE_Match object; span=(208, 220), match='321-555-4321'>\n",
      "<_sre.SRE_Match object; span=(221, 233), match='123.555.1234'>\n",
      "<_sre.SRE_Match object; span=(234, 246), match='123*555*1234'>\n",
      "<_sre.SRE_Match object; span=(247, 259), match='800-555-1234'>\n",
      "<_sre.SRE_Match object; span=(260, 272), match='900-555-1234'>\n"
     ]
    }
   ],
   "source": [
    "# pattern to find landline numbers\n",
    "# Note: [*-.] or [.-*], these cases can produce bad character range because like [a-z] if hyphen is \n",
    "# there pyhton interpreter will condider it as range.\n",
    "pattern = re.compile(r'\\d\\d\\d[*.-]\\d\\d\\d[*.-]\\d\\d\\d\\d')\n",
    "match = pattern.finditer(text)\n",
    "for i in match:\n",
    "    print(i)"
   ]
  },
  {
   "cell_type": "code",
   "execution_count": 41,
   "metadata": {},
   "outputs": [
    {
     "name": "stdout",
     "output_type": "stream",
     "text": [
      "<_sre.SRE_Match object; span=(247, 259), match='800-555-1234'>\n",
      "<_sre.SRE_Match object; span=(260, 272), match='900-555-1234'>\n"
     ]
    }
   ],
   "source": [
    "# pattern for finding numbers starting from specific number such as 800. or 900.\n",
    "pattern = re.compile(r'[8|9]00[*.-]\\d\\d\\d[*.-]\\d\\d\\d\\d')\n",
    "match = pattern.finditer(text)\n",
    "for i in match:\n",
    "    print(i)"
   ]
  },
  {
   "cell_type": "code",
   "execution_count": 42,
   "metadata": {},
   "outputs": [
    {
     "name": "stdout",
     "output_type": "stream",
     "text": [
      "<_sre.SRE_Match object; span=(247, 259), match='800-555-1234'>\n",
      "<_sre.SRE_Match object; span=(260, 272), match='900-555-1234'>\n"
     ]
    }
   ],
   "source": [
    "# pattern for finding numbers starting from specific number such as 800. or 900.\n",
    "pattern = re.compile(r'[89]00[*.-]\\d\\d\\d[*.-]\\d\\d\\d\\d')\n",
    "match = pattern.finditer(text)\n",
    "for i in match:\n",
    "    print(i)"
   ]
  },
  {
   "cell_type": "markdown",
   "metadata": {},
   "source": [
    "## Excluding some character [ ^ ] is used."
   ]
  },
  {
   "cell_type": "code",
   "execution_count": 46,
   "metadata": {},
   "outputs": [
    {
     "name": "stdout",
     "output_type": "stream",
     "text": [
      "<_sre.SRE_Match object; span=(208, 220), match='321-555-4321'>\n",
      "<_sre.SRE_Match object; span=(221, 233), match='123.555.1234'>\n",
      "<_sre.SRE_Match object; span=(234, 246), match='123*555*1234'>\n"
     ]
    }
   ],
   "source": [
    "# pattern to find the numbers which starts except 8 and 9\n",
    "pattern = re.compile(r'[^8^9]\\d\\d[*.-]\\d\\d\\d[*.-]\\d\\d\\d\\d')\n",
    "match = pattern.finditer(text)\n",
    "for i in match:\n",
    "    print(i)"
   ]
  },
  {
   "cell_type": "markdown",
   "metadata": {},
   "source": [
    "## Quantifiers { } "
   ]
  },
  {
   "cell_type": "code",
   "execution_count": 47,
   "metadata": {},
   "outputs": [
    {
     "name": "stdout",
     "output_type": "stream",
     "text": [
      "<_sre.SRE_Match object; span=(208, 220), match='321-555-4321'>\n",
      "<_sre.SRE_Match object; span=(221, 233), match='123.555.1234'>\n",
      "<_sre.SRE_Match object; span=(234, 246), match='123*555*1234'>\n"
     ]
    }
   ],
   "source": [
    "# Using Quantifiers means instead of writing \\d\\d\\d, we can write \\d{3}\n",
    "# pattern to find the numbers which starts except 8 and 9\n",
    "pattern = re.compile(r'[^8^9]\\d{2}[*.-]\\d{3}[*.-]\\d{4}')\n",
    "match = pattern.finditer(text)\n",
    "for i in match:\n",
    "    print(i)"
   ]
  },
  {
   "cell_type": "code",
   "execution_count": 63,
   "metadata": {},
   "outputs": [
    {
     "name": "stdout",
     "output_type": "stream",
     "text": [
      "<_sre.SRE_Match object; span=(208, 220), match='321-555-4321'>\n",
      "<_sre.SRE_Match object; span=(221, 233), match='123.555.1234'>\n",
      "<_sre.SRE_Match object; span=(234, 246), match='123*555*1234'>\n",
      "<_sre.SRE_Match object; span=(247, 259), match='800-555-1234'>\n",
      "<_sre.SRE_Match object; span=(260, 272), match='900-555-1234'>\n"
     ]
    }
   ],
   "source": [
    "# pattern to find the numbers which starts except 8 and 9\n",
    "pattern = re.compile(r'\\d{3}[*.-]\\d{3}[*.-]\\d{4}')\n",
    "match = pattern.finditer(text)\n",
    "for i in match:\n",
    "    print(i)"
   ]
  },
  {
   "cell_type": "code",
   "execution_count": 65,
   "metadata": {},
   "outputs": [
    {
     "name": "stdout",
     "output_type": "stream",
     "text": [
      "<_sre.SRE_Match object; span=(147, 157), match='@gmail.com'>\n",
      "<_sre.SRE_Match object; span=(167, 177), match='@gmail.com'>\n",
      "<_sre.SRE_Match object; span=(187, 197), match='@gmail.com'>\n",
      "<_sre.SRE_Match object; span=(198, 207), match='gmail.com'>\n"
     ]
    }
   ],
   "source": [
    "# pattern to find @gmail.com or gmail.com\n",
    "pattern = re.compile(r'@?gmail\\.com')\n",
    "match = pattern.finditer(text)\n",
    "for m in match:\n",
    "    print(m)"
   ]
  },
  {
   "cell_type": "code",
   "execution_count": 71,
   "metadata": {},
   "outputs": [
    {
     "name": "stdout",
     "output_type": "stream",
     "text": [
      "<_sre.SRE_Match object; span=(273, 284), match='Mr. Schafer'>\n",
      "<_sre.SRE_Match object; span=(285, 293), match='Mr Smith'>\n",
      "<_sre.SRE_Match object; span=(317, 322), match='Mr. T'>\n"
     ]
    }
   ],
   "source": [
    "# pattern for finding \"Mr. Schafer\",\"Mr. T\" and \"Mr Smith\"\n",
    "pattern = re.compile(r'Mr\\.?\\s[A-Z]\\w*')\n",
    "match = pattern.finditer(text)\n",
    "for m in match:\n",
    "    print(m)"
   ]
  },
  {
   "cell_type": "code",
   "execution_count": null,
   "metadata": {},
   "outputs": [],
   "source": [
    "text = '''\n",
    "abcdefghijklmnopqurtuvwxyz\n",
    "ABCDEFGHIJKLMNOPQRSTUVWXYZ\n",
    "1234567890\n",
    "Ha HaHa\n",
    "MetaCharacters (Need to be escaped):\n",
    ". ^ $ * + ? { } [ ] \\ | ( )\n",
    "kunal222@gmail.com\n",
    "ravi12345@gmail.com\n",
    "rajan.123@gmail.com\n",
    "gmail.com\n",
    "321-555-4321\n",
    "123.555.1234\n",
    "123*555*1234\n",
    "800-555-1234\n",
    "900-555-1234\n",
    "Mr. Schafer\n",
    "Mr Smith\n",
    "Ms Davis\n",
    "Mrs. Robinson\n",
    "Mr. T\n",
    "'''"
   ]
  },
  {
   "cell_type": "code",
   "execution_count": 91,
   "metadata": {},
   "outputs": [
    {
     "name": "stdout",
     "output_type": "stream",
     "text": [
      "<_sre.SRE_Match object; span=(273, 284), match='Mr. Schafer'>\n",
      "<_sre.SRE_Match object; span=(285, 293), match='Mr Smith'>\n",
      "<_sre.SRE_Match object; span=(294, 302), match='Ms Davis'>\n",
      "<_sre.SRE_Match object; span=(303, 316), match='Mrs. Robinson'>\n",
      "<_sre.SRE_Match object; span=(317, 322), match='Mr. T'>\n"
     ]
    }
   ],
   "source": [
    "# pattern for finding \"Mr. Schafer\",\"Mr. T\" and \"Mr Smith\"\n",
    "# (r|rs|s) is group of 'r' and 'rs' and 's', so any one of them ca come.\n",
    "# \\. is for '.'\n",
    "# \\.? represent that either '.' can come or cannot come.\n",
    "\n",
    "pattern = re.compile(r'M(r|rs|s)\\.?\\s[A-Z]\\w*')\n",
    "match = pattern.finditer(text)\n",
    "for m in match:\n",
    "    print(m)"
   ]
  },
  {
   "cell_type": "code",
   "execution_count": 75,
   "metadata": {},
   "outputs": [],
   "source": [
    "emails = '''\n",
    "CoreyMSchafer@gmail.com\n",
    "corey.schafer@university.edu\n",
    "corey-321-schafer@my-work.net\n",
    "'''"
   ]
  },
  {
   "cell_type": "code",
   "execution_count": 92,
   "metadata": {},
   "outputs": [
    {
     "name": "stdout",
     "output_type": "stream",
     "text": [
      "<_sre.SRE_Match object; span=(1, 24), match='CoreyMSchafer@gmail.com'>\n"
     ]
    }
   ],
   "source": [
    "# a-zA-Z only represent character from a to z and also A to Z\n",
    "# a-zA-Z0-9 represent a-zA-Zand also 0 to 9\n",
    "# [a-zA-Z0-9.-] represent a-zA-Z0-9 and also '.' and '-'\n",
    "# [a-z] represent a to z character.\n",
    "# [a-z]+ represent ( a to z character) one or more than one.\n",
    "# [a-z-]+ represent ( a to z character and '-') one or more than one.\n",
    "\n",
    "pattern = re.compile(r'[a-zA-Z]+@[a-z]+\\.com')\n",
    "match = pattern.finditer(emails)\n",
    "for m in match:\n",
    "    print(m)"
   ]
  },
  {
   "cell_type": "code",
   "execution_count": 93,
   "metadata": {},
   "outputs": [
    {
     "name": "stdout",
     "output_type": "stream",
     "text": [
      "<_sre.SRE_Match object; span=(1, 24), match='CoreyMSchafer@gmail.com'>\n",
      "<_sre.SRE_Match object; span=(25, 53), match='corey.schafer@university.edu'>\n"
     ]
    }
   ],
   "source": [
    "# a-zA-Z only represent character from a to z and also A to Z\n",
    "# a-zA-Z0-9 represent a-zA-Zand also 0 to 9\n",
    "# [a-zA-Z0-9.-] represent a-zA-Z0-9 and also '.' and '-'\n",
    "# [a-z] represent a to z character.\n",
    "# [a-z]+ represent ( a to z character) one or more than one.\n",
    "# [a-z-]+ represent ( a to z character and '-') one or more than one.\n",
    "\n",
    "pattern = re.compile(r'[a-zA-Z.]+@[a-z]+\\.(com|edu)')\n",
    "match = pattern.finditer(emails)\n",
    "for m in match:\n",
    "    print(m)"
   ]
  },
  {
   "cell_type": "code",
   "execution_count": 94,
   "metadata": {},
   "outputs": [
    {
     "name": "stdout",
     "output_type": "stream",
     "text": [
      "<_sre.SRE_Match object; span=(1, 24), match='CoreyMSchafer@gmail.com'>\n",
      "<_sre.SRE_Match object; span=(25, 53), match='corey.schafer@university.edu'>\n",
      "<_sre.SRE_Match object; span=(54, 83), match='corey-321-schafer@my-work.net'>\n"
     ]
    }
   ],
   "source": [
    "# a-zA-Z only represent character from a to z and also A to Z\n",
    "# a-zA-Z0-9 represent a-zA-Zand also 0 to 9\n",
    "# [a-zA-Z0-9.-] represent a-zA-Z0-9 and also '.' and '-'\n",
    "# [a-z] represent a to z character.\n",
    "# [a-z]+ represent ( a to z character) one or more than one.\n",
    "# [a-z-]+ represent ( a to z character and '-') one or more than one.\n",
    "\n",
    "pattern = re.compile(r'[a-zA-Z0-9.-]+@[a-z-]+\\.(com|edu|net)')\n",
    "match = pattern.finditer(emails)\n",
    "for m in match:\n",
    "    print(m)"
   ]
  },
  {
   "cell_type": "code",
   "execution_count": 86,
   "metadata": {},
   "outputs": [],
   "source": [
    "urls = '''\n",
    "https://www.google.com\n",
    "http://coreyms.com\n",
    "https://youtube.com\n",
    "https://www.nasa.gov\n",
    "'''"
   ]
  },
  {
   "cell_type": "code",
   "execution_count": 95,
   "metadata": {},
   "outputs": [
    {
     "name": "stdout",
     "output_type": "stream",
     "text": [
      "<_sre.SRE_Match object; span=(1, 23), match='https://www.google.com'>\n",
      "<_sre.SRE_Match object; span=(24, 42), match='http://coreyms.com'>\n",
      "<_sre.SRE_Match object; span=(43, 62), match='https://youtube.com'>\n",
      "<_sre.SRE_Match object; span=(63, 83), match='https://www.nasa.gov'>\n"
     ]
    }
   ],
   "source": [
    "# https? here s? represent that our expression can have 's' or cannot have 's'\n",
    "# (www.)? represent that our expression can have this 'www.' or cannot have 'www.'\n",
    "# \\w represent word character \n",
    "# \\w+ represent one word character or more word chracter (1 or more word character)\n",
    "\n",
    "pattern = re.compile(r'https?://(www.)?\\w+\\.\\w+')\n",
    "match = pattern.finditer(urls)\n",
    "for m in match:\n",
    "    print(m)"
   ]
  },
  {
   "cell_type": "code",
   "execution_count": 96,
   "metadata": {},
   "outputs": [],
   "source": [
    "# Regex has some quantifiers which we can call sufix because \n",
    "# It will come after meta character and tell whether they will be (0 times or 1 times) i.e '?'\n",
    "# It will come after meta character and tell whether they will be (1 times or more times) i.e '+'\n",
    "# It will come after meta character and tell whether they will be (0 times or more times) i.e '*'"
   ]
  },
  {
   "cell_type": "code",
   "execution_count": 97,
   "metadata": {},
   "outputs": [
    {
     "data": {
      "text/plain": [
       "'\\n*       - 0 or More\\n+       - 1 or More\\n?       - 0 or One\\n{3}     - Exact Number\\n{3,4}   - Range of Numbers (Minimum, Maximum)\\n'"
      ]
     },
     "execution_count": 97,
     "metadata": {},
     "output_type": "execute_result"
    }
   ],
   "source": [
    "# Quantifiers\n",
    "\"\"\"\n",
    "*       - 0 or More\n",
    "+       - 1 or More\n",
    "?       - 0 or One\n",
    "{3}     - Exact Number\n",
    "{3,4}   - Range of Numbers (Minimum, Maximum)\n",
    "\"\"\""
   ]
  },
  {
   "cell_type": "code",
   "execution_count": 98,
   "metadata": {},
   "outputs": [
    {
     "data": {
      "text/plain": [
       "'\\n[]      - Matches Characters in brackets\\n[^ ]    - Matches Characters NOT in brackets\\n|       - Either Or\\n( )     - Group\\n'"
      ]
     },
     "execution_count": 98,
     "metadata": {},
     "output_type": "execute_result"
    }
   ],
   "source": [
    "# Additional Revision 1\n",
    "\"\"\"\n",
    "[]      - Matches Characters in brackets\n",
    "[^ ]    - Matches Characters NOT in brackets\n",
    "|       - Either Or\n",
    "( )     - Group\n",
    "\"\"\""
   ]
  },
  {
   "cell_type": "code",
   "execution_count": 99,
   "metadata": {},
   "outputs": [
    {
     "data": {
      "text/plain": [
       "'\\n.       - Any Character Except New Line\\n\\\\d      - Digit (0-9)\\n\\\\D      - Not a Digit (0-9)\\n\\\\w      - Word Character (a-z, A-Z, 0-9, _)\\n\\\\W      - Not a Word Character\\n\\\\s      - Whitespace (space, tab, newline)\\n\\\\S      - Not Whitespace (space, tab, newline)\\n\\n\\x08      - Word Boundary\\n\\\\B      - Not a Word Boundary\\n^       - Beginning of a String\\n$       - End of a String\\n'"
      ]
     },
     "execution_count": 99,
     "metadata": {},
     "output_type": "execute_result"
    }
   ],
   "source": [
    "# Additional Revision 2\n",
    "\"\"\"\n",
    ".       - Any Character Except New Line\n",
    "\\d      - Digit (0-9)\n",
    "\\D      - Not a Digit (0-9)\n",
    "\\w      - Word Character (a-z, A-Z, 0-9, _)\n",
    "\\W      - Not a Word Character\n",
    "\\s      - Whitespace (space, tab, newline)\n",
    "\\S      - Not Whitespace (space, tab, newline)\n",
    "\n",
    "\\b      - Word Boundary\n",
    "\\B      - Not a Word Boundary\n",
    "^       - Beginning of a String\n",
    "$       - End of a String\n",
    "\"\"\""
   ]
  }
 ],
 "metadata": {
  "kernelspec": {
   "display_name": "Python 3",
   "language": "python",
   "name": "python3"
  },
  "language_info": {
   "codemirror_mode": {
    "name": "ipython",
    "version": 3
   },
   "file_extension": ".py",
   "mimetype": "text/x-python",
   "name": "python",
   "nbconvert_exporter": "python",
   "pygments_lexer": "ipython3",
   "version": "3.6.5"
  }
 },
 "nbformat": 4,
 "nbformat_minor": 2
}
