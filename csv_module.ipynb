{
 "cells": [
  {
   "cell_type": "code",
   "execution_count": 1,
   "metadata": {},
   "outputs": [
    {
     "name": "stdout",
     "output_type": "stream",
     "text": [
      "Position,Level,Salary\n",
      "\n",
      "Business Analyst,1,45000\n",
      "\n",
      "Junior Consultant,2,50000\n",
      "\n",
      "Senior Consultant,3,60000\n",
      "\n",
      "Manager,4,80000\n",
      "\n",
      "Country Manager,5,110000\n",
      "\n",
      "Region Manager,6,150000\n",
      "\n",
      "Partner,7,200000\n",
      "\n",
      "Senior Partner,8,300000\n",
      "\n",
      "C-level,9,500000\n",
      "\n",
      "CEO,10,1000000\n"
     ]
    }
   ],
   "source": [
    "import csv\n",
    "\n",
    "with open('Position_Salaries.csv','r') as csv_file:\n",
    "    for line in csv_file:\n",
    "        print(line)"
   ]
  },
  {
   "cell_type": "code",
   "execution_count": 5,
   "metadata": {},
   "outputs": [
    {
     "name": "stdout",
     "output_type": "stream",
     "text": [
      "['Position', 'Level', 'Salary']\n",
      "['Business Analyst', '1', '45000']\n",
      "['Junior Consultant', '2', '50000']\n",
      "['Senior Consultant', '3', '60000']\n",
      "['Manager', '4', '80000']\n",
      "['Country Manager', '5', '110000']\n",
      "['Region Manager', '6', '150000']\n",
      "['Partner', '7', '200000']\n",
      "['Senior Partner', '8', '300000']\n",
      "['C-level', '9', '500000']\n",
      "['CEO', '10', '1000000']\n"
     ]
    }
   ],
   "source": [
    "# to get data in list while parsing from csv file\n",
    "import csv\n",
    "\n",
    "with open('Position_Salaries.csv','r') as csv_file:\n",
    "    csv_read = csv.reader(csv_file)\n",
    "    \n",
    "    for line in csv_read:\n",
    "        print(line)"
   ]
  },
  {
   "cell_type": "code",
   "execution_count": 10,
   "metadata": {},
   "outputs": [],
   "source": [
    "# to write the data from one csv file to another csv file\n",
    "import csv\n",
    "\n",
    "with open('Position_Salaries.csv','r') as csv_file:\n",
    "    csv_read = csv.reader(csv_file)\n",
    "    \n",
    "    with open('example.csv','w') as new_file:\n",
    "        csv_write = csv.writer(new_file, delimiter='-')\n",
    "    \n",
    "        for line in csv_read:\n",
    "            csv_write.writerow(line)"
   ]
  },
  {
   "cell_type": "code",
   "execution_count": 13,
   "metadata": {},
   "outputs": [
    {
     "name": "stdout",
     "output_type": "stream",
     "text": [
      "OrderedDict([('Position', 'Business Analyst'), ('Level', '1'), ('Salary', '45000')])\n",
      "OrderedDict([('Position', 'Junior Consultant'), ('Level', '2'), ('Salary', '50000')])\n",
      "OrderedDict([('Position', 'Senior Consultant'), ('Level', '3'), ('Salary', '60000')])\n",
      "OrderedDict([('Position', 'Manager'), ('Level', '4'), ('Salary', '80000')])\n",
      "OrderedDict([('Position', 'Country Manager'), ('Level', '5'), ('Salary', '110000')])\n",
      "OrderedDict([('Position', 'Region Manager'), ('Level', '6'), ('Salary', '150000')])\n",
      "OrderedDict([('Position', 'Partner'), ('Level', '7'), ('Salary', '200000')])\n",
      "OrderedDict([('Position', 'Senior Partner'), ('Level', '8'), ('Salary', '300000')])\n",
      "OrderedDict([('Position', 'C-level'), ('Level', '9'), ('Salary', '500000')])\n",
      "OrderedDict([('Position', 'CEO'), ('Level', '10'), ('Salary', '1000000')])\n"
     ]
    }
   ],
   "source": [
    "# DictReader()\n",
    "import csv\n",
    "\n",
    "with open('Position_Salaries.csv','r') as csv_file:\n",
    "    csv_read = csv.DictReader(csv_file)\n",
    "    \n",
    "    for line in csv_read:\n",
    "        print(line)"
   ]
  },
  {
   "cell_type": "code",
   "execution_count": 17,
   "metadata": {},
   "outputs": [
    {
     "name": "stdout",
     "output_type": "stream",
     "text": [
      "Business Analyst\n",
      "Junior Consultant\n",
      "Senior Consultant\n",
      "Manager\n",
      "Country Manager\n",
      "Region Manager\n",
      "Partner\n",
      "Senior Partner\n",
      "C-level\n",
      "CEO\n"
     ]
    }
   ],
   "source": [
    "with open('Position_Salaries.csv','r') as csv_file:\n",
    "    csv_read = csv.DictReader(csv_file)\n",
    "    \n",
    "    for line in csv_read:\n",
    "        print(line['Position'])"
   ]
  },
  {
   "cell_type": "code",
   "execution_count": 19,
   "metadata": {},
   "outputs": [
    {
     "ename": "ValueError",
     "evalue": "dict contains fields not in fieldnames: 'Salary', 'Level'",
     "output_type": "error",
     "traceback": [
      "\u001b[1;31m---------------------------------------------------------------------------\u001b[0m",
      "\u001b[1;31mValueError\u001b[0m                                Traceback (most recent call last)",
      "\u001b[1;32m<ipython-input-19-8b0b9b3d889f>\u001b[0m in \u001b[0;36m<module>\u001b[1;34m()\u001b[0m\n\u001b[0;32m     13\u001b[0m \u001b[1;33m\u001b[0m\u001b[0m\n\u001b[0;32m     14\u001b[0m         \u001b[1;32mfor\u001b[0m \u001b[0mline\u001b[0m \u001b[1;32min\u001b[0m \u001b[0mcsv_reader\u001b[0m\u001b[1;33m:\u001b[0m\u001b[1;33m\u001b[0m\u001b[0m\n\u001b[1;32m---> 15\u001b[1;33m             \u001b[0mcsv_writer\u001b[0m\u001b[1;33m.\u001b[0m\u001b[0mwriterow\u001b[0m\u001b[1;33m(\u001b[0m\u001b[0mline\u001b[0m\u001b[1;33m)\u001b[0m\u001b[1;33m\u001b[0m\u001b[0m\n\u001b[0m",
      "\u001b[1;32m~\\Anaconda3\\lib\\csv.py\u001b[0m in \u001b[0;36mwriterow\u001b[1;34m(self, rowdict)\u001b[0m\n\u001b[0;32m    153\u001b[0m \u001b[1;33m\u001b[0m\u001b[0m\n\u001b[0;32m    154\u001b[0m     \u001b[1;32mdef\u001b[0m \u001b[0mwriterow\u001b[0m\u001b[1;33m(\u001b[0m\u001b[0mself\u001b[0m\u001b[1;33m,\u001b[0m \u001b[0mrowdict\u001b[0m\u001b[1;33m)\u001b[0m\u001b[1;33m:\u001b[0m\u001b[1;33m\u001b[0m\u001b[0m\n\u001b[1;32m--> 155\u001b[1;33m         \u001b[1;32mreturn\u001b[0m \u001b[0mself\u001b[0m\u001b[1;33m.\u001b[0m\u001b[0mwriter\u001b[0m\u001b[1;33m.\u001b[0m\u001b[0mwriterow\u001b[0m\u001b[1;33m(\u001b[0m\u001b[0mself\u001b[0m\u001b[1;33m.\u001b[0m\u001b[0m_dict_to_list\u001b[0m\u001b[1;33m(\u001b[0m\u001b[0mrowdict\u001b[0m\u001b[1;33m)\u001b[0m\u001b[1;33m)\u001b[0m\u001b[1;33m\u001b[0m\u001b[0m\n\u001b[0m\u001b[0;32m    156\u001b[0m \u001b[1;33m\u001b[0m\u001b[0m\n\u001b[0;32m    157\u001b[0m     \u001b[1;32mdef\u001b[0m \u001b[0mwriterows\u001b[0m\u001b[1;33m(\u001b[0m\u001b[0mself\u001b[0m\u001b[1;33m,\u001b[0m \u001b[0mrowdicts\u001b[0m\u001b[1;33m)\u001b[0m\u001b[1;33m:\u001b[0m\u001b[1;33m\u001b[0m\u001b[0m\n",
      "\u001b[1;32m~\\Anaconda3\\lib\\csv.py\u001b[0m in \u001b[0;36m_dict_to_list\u001b[1;34m(self, rowdict)\u001b[0m\n\u001b[0;32m    149\u001b[0m             \u001b[1;32mif\u001b[0m \u001b[0mwrong_fields\u001b[0m\u001b[1;33m:\u001b[0m\u001b[1;33m\u001b[0m\u001b[0m\n\u001b[0;32m    150\u001b[0m                 raise ValueError(\"dict contains fields not in fieldnames: \"\n\u001b[1;32m--> 151\u001b[1;33m                                  + \", \".join([repr(x) for x in wrong_fields]))\n\u001b[0m\u001b[0;32m    152\u001b[0m         \u001b[1;32mreturn\u001b[0m \u001b[1;33m(\u001b[0m\u001b[0mrowdict\u001b[0m\u001b[1;33m.\u001b[0m\u001b[0mget\u001b[0m\u001b[1;33m(\u001b[0m\u001b[0mkey\u001b[0m\u001b[1;33m,\u001b[0m \u001b[0mself\u001b[0m\u001b[1;33m.\u001b[0m\u001b[0mrestval\u001b[0m\u001b[1;33m)\u001b[0m \u001b[1;32mfor\u001b[0m \u001b[0mkey\u001b[0m \u001b[1;32min\u001b[0m \u001b[0mself\u001b[0m\u001b[1;33m.\u001b[0m\u001b[0mfieldnames\u001b[0m\u001b[1;33m)\u001b[0m\u001b[1;33m\u001b[0m\u001b[0m\n\u001b[0;32m    153\u001b[0m \u001b[1;33m\u001b[0m\u001b[0m\n",
      "\u001b[1;31mValueError\u001b[0m: dict contains fields not in fieldnames: 'Salary', 'Level'"
     ]
    }
   ],
   "source": [
    "# DictWriter()\n",
    "import csv\n",
    "\n",
    "with open('Position_Salaries.csv', 'r') as csv_file:\n",
    "    csv_reader = csv.DictReader(csv_file)\n",
    "\n",
    "    with open('new_names.csv', 'w') as new_file:\n",
    "        fieldnames = ['Position', 'Salaries']\n",
    "\n",
    "        csv_writer = csv.DictWriter(new_file, fieldnames=fieldnames, delimiter='\\t')\n",
    "\n",
    "        csv_writer.writeheader()\n",
    "\n",
    "        for line in csv_reader:\n",
    "            csv_writer.writerow(line)"
   ]
  },
  {
   "cell_type": "code",
   "execution_count": null,
   "metadata": {},
   "outputs": [],
   "source": []
  }
 ],
 "metadata": {
  "kernelspec": {
   "display_name": "Python 3",
   "language": "python",
   "name": "python3"
  },
  "language_info": {
   "codemirror_mode": {
    "name": "ipython",
    "version": 3
   },
   "file_extension": ".py",
   "mimetype": "text/x-python",
   "name": "python",
   "nbconvert_exporter": "python",
   "pygments_lexer": "ipython3",
   "version": "3.6.5"
  }
 },
 "nbformat": 4,
 "nbformat_minor": 2
}
