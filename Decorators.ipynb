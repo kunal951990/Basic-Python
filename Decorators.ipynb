{
 "cells": [
  {
   "cell_type": "markdown",
   "metadata": {},
   "source": [
    "## Initial concept"
   ]
  },
  {
   "cell_type": "code",
   "execution_count": 13,
   "metadata": {},
   "outputs": [
    {
     "name": "stdout",
     "output_type": "stream",
     "text": [
      "inner_func\n",
      "Message: hi\n",
      "Message: hello\n"
     ]
    }
   ],
   "source": [
    "# Closure\n",
    "def outer_func(msg):\n",
    "    def inner_func():\n",
    "        print(\"Message:\",msg)\n",
    "    return inner_func\n",
    "        \n",
    "f = outer_func('hi')\n",
    "g = outer_func('hello')\n",
    "\n",
    "print(f.__name__)\n",
    "f()\n",
    "g()"
   ]
  },
  {
   "cell_type": "code",
   "execution_count": 15,
   "metadata": {},
   "outputs": [],
   "source": [
    "# Decorator will take one function as input through outer function that is decorator function \n",
    "# and will execute the function in inner functionthat is wrapper function.\n",
    "\n",
    "# Simplest decorator\n",
    "def decorator_function(Orignal_Function): # Passing a function in Decorator\n",
    "    def wrapper_function():\n",
    "        return Orignal_Function() # executing a function passed by outer function in wrapper function.\n",
    "    return wrapper_function"
   ]
  },
  {
   "cell_type": "code",
   "execution_count": 16,
   "metadata": {},
   "outputs": [
    {
     "name": "stdout",
     "output_type": "stream",
     "text": [
      "Display Function Ran.\n"
     ]
    }
   ],
   "source": [
    "# Use case\n",
    "def decorator_function(Orignal_Function): # Passing a function in Decorator\n",
    "    def wrapper_function():\n",
    "        return Orignal_Function() # executing a function passed by outer function in wrapper function.\n",
    "    return wrapper_function\n",
    "\n",
    "def display(): # an example function created to pass in decorator\n",
    "    print(\"Display Function Ran.\")\n",
    "    \n",
    "decorated = decorator_function(display) # wrapper function is assigned.\n",
    "\n",
    "decorated()"
   ]
  },
  {
   "cell_type": "code",
   "execution_count": 17,
   "metadata": {},
   "outputs": [
    {
     "name": "stdout",
     "output_type": "stream",
     "text": [
      "wrapper function exectes orignal function that is display\n",
      "Display Function Ran.\n"
     ]
    }
   ],
   "source": [
    "# Use case\n",
    "def decorator_function(Orignal_Function): # Passing a function in Decorator\n",
    "    def wrapper_function():\n",
    "        print(\"wrapper function exectes orignal function that is {}\".format(Orignal_Function.__name__))\n",
    "        return Orignal_Function() # executing a function passed by outer function in wrapper function.\n",
    "    return wrapper_function\n",
    "\n",
    "def display(): # an example function created to pass in decorator\n",
    "    print(\"Display Function Ran.\")\n",
    "    \n",
    "decorated = decorator_function(display) # wrapper function is assigned.\n",
    "\n",
    "decorated()"
   ]
  },
  {
   "cell_type": "code",
   "execution_count": 19,
   "metadata": {},
   "outputs": [
    {
     "name": "stdout",
     "output_type": "stream",
     "text": [
      "wrapper function executes orignal function that is display\n",
      "Display Function Ran.\n"
     ]
    }
   ],
   "source": [
    "# adding some functionality to orignal function with help of decorator:\n",
    "def decorator_function(Orignal_Function): # Passing a function in Decorator\n",
    "    def wrapper_function():\n",
    "        print(\"wrapper function executes orignal function that is {}\".format(Orignal_Function.__name__))\n",
    "        return Orignal_Function() # executing a function passed by outer function in wrapper function.\n",
    "    return wrapper_function\n",
    "\n",
    "def display(): # an orignal function created to pass in decorator\n",
    "    print(\"Display Function Ran.\")\n",
    "    \n",
    "display = decorator_function(display) # wrapper function is assigned to orignal function in order to add some functionality.\n",
    "\n",
    "display()"
   ]
  },
  {
   "cell_type": "code",
   "execution_count": 20,
   "metadata": {},
   "outputs": [
    {
     "name": "stdout",
     "output_type": "stream",
     "text": [
      "wrapper function executes orignal function that is display\n",
      "Display Function Ran.\n"
     ]
    }
   ],
   "source": [
    "# easy syntax for assigning decorators:\n",
    "def decorator_function(Orignal_Function): # Passing a function in Decorator\n",
    "    def wrapper_function():\n",
    "        print(\"wrapper function executes orignal function that is {}\".format(Orignal_Function.__name__))\n",
    "        return Orignal_Function() # executing a function passed by outer function in wrapper function.\n",
    "    return wrapper_function\n",
    "\n",
    "@decorator_function # wrapper function is assigned to orignal function in order to add some functionality.\n",
    "def display(): # an orignal function created to pass in decorator\n",
    "    print(\"Display Function Ran.\")\n",
    "    \n",
    "# display = decorator_function(display) \n",
    "display()"
   ]
  },
  {
   "cell_type": "markdown",
   "metadata": {},
   "source": [
    "# Below both are the syntax of decorator:\n",
    "@decorator_function\n",
    "def display():\n",
    "\n",
    "display = decorator_function(display) "
   ]
  },
  {
   "cell_type": "code",
   "execution_count": 22,
   "metadata": {},
   "outputs": [
    {
     "name": "stdout",
     "output_type": "stream",
     "text": [
      "name is Ram and age is 26\n"
     ]
    }
   ],
   "source": [
    "# decorators working with any number of parameter\n",
    "# easy syntax for assigning decorators:\n",
    "def decorator_function(Orignal_Function): # Passing a function in Decorator\n",
    "    def wrapper_function():\n",
    "        print(\"wrapper function executes orignal function that is {}\".format(Orignal_Function.__name__))\n",
    "        return Orignal_Function() # executing a function passed by outer function in wrapper function.\n",
    "    return wrapper_function\n",
    "\n",
    "# @decorator_function # wrapper function is assigned to orignal function in order to add some functionality.\n",
    "# def display(): # an orignal function created to pass in decorator\n",
    "#     print(\"Display Function Ran.\")\n",
    "\n",
    "    \n",
    "def display_info(name,age): # not using decorator, it is just a new function\n",
    "    print(f\"name is {name} and age is {age}\")\n",
    "    \n",
    "display_info('Ram',26)\n"
   ]
  },
  {
   "cell_type": "code",
   "execution_count": 23,
   "metadata": {},
   "outputs": [
    {
     "ename": "TypeError",
     "evalue": "wrapper_function() takes 0 positional arguments but 2 were given",
     "output_type": "error",
     "traceback": [
      "\u001b[1;31m---------------------------------------------------------------------------\u001b[0m",
      "\u001b[1;31mTypeError\u001b[0m                                 Traceback (most recent call last)",
      "\u001b[1;32m<ipython-input-23-c3479f366711>\u001b[0m in \u001b[0;36m<module>\u001b[1;34m()\u001b[0m\n\u001b[0;32m     15\u001b[0m     \u001b[0mprint\u001b[0m\u001b[1;33m(\u001b[0m\u001b[1;34mf\"name is {name} and age is {age}\"\u001b[0m\u001b[1;33m)\u001b[0m\u001b[1;33m\u001b[0m\u001b[0m\n\u001b[0;32m     16\u001b[0m \u001b[1;33m\u001b[0m\u001b[0m\n\u001b[1;32m---> 17\u001b[1;33m \u001b[0mdisplay_info\u001b[0m\u001b[1;33m(\u001b[0m\u001b[1;34m'Ram'\u001b[0m\u001b[1;33m,\u001b[0m\u001b[1;36m26\u001b[0m\u001b[1;33m)\u001b[0m\u001b[1;33m\u001b[0m\u001b[0m\n\u001b[0m",
      "\u001b[1;31mTypeError\u001b[0m: wrapper_function() takes 0 positional arguments but 2 were given"
     ]
    }
   ],
   "source": [
    "# decorators working with any number of parameter\n",
    "# easy syntax for assigning decorators:\n",
    "def decorator_function(Orignal_Function): # Passing a function in Decorator\n",
    "    def wrapper_function():\n",
    "        print(\"wrapper function executes orignal function that is {}\".format(Orignal_Function.__name__))\n",
    "        return Orignal_Function() # executing a function passed by outer function in wrapper function.\n",
    "    return wrapper_function\n",
    "\n",
    "# @decorator_function # wrapper function is assigned to orignal function in order to add some functionality.\n",
    "# def display(): # an orignal function created to pass in decorator\n",
    "#     print(\"Display Function Ran.\")\n",
    "\n",
    "@decorator_function    \n",
    "def display_info(name,age): # using decorator, it is just a new function\n",
    "    print(f\"name is {name} and age is {age}\")\n",
    "    \n",
    "display_info('Ram',26)"
   ]
  },
  {
   "cell_type": "code",
   "execution_count": 28,
   "metadata": {},
   "outputs": [
    {
     "name": "stdout",
     "output_type": "stream",
     "text": [
      "wrapper function executes orignal function that is display\n",
      "Display Function Ran.\n",
      "wrapper function executes orignal function that is display_info\n",
      "name is Ram and age is 26\n"
     ]
    }
   ],
   "source": [
    "# to remove argument restriction\n",
    "\n",
    "# decorators working with any number of parameter\n",
    "# easy syntax for assigning decorators:\n",
    "def decorator_function(Orignal_Function):\n",
    "    def wrapper_function(*args,**kwargs): # generalizing the argument so that we can pass any number of argument.\n",
    "        print(\"wrapper function executes orignal function that is {}\".format(Orignal_Function.__name__))\n",
    "        return Orignal_Function(*args,**kwargs)\n",
    "    return wrapper_function\n",
    "\n",
    "@decorator_function # wrapper function is assigned to orignal function in order to add some functionality.\n",
    "def display(): \n",
    "    print(\"Display Function Ran.\")\n",
    "\n",
    "@decorator_function  # using decorator\n",
    "def display_info(name,age): \n",
    "    print(f\"name is {name} and age is {age}\")\n",
    "\n",
    "display()\n",
    "display_info('Ram',26)"
   ]
  },
  {
   "cell_type": "code",
   "execution_count": 30,
   "metadata": {},
   "outputs": [
    {
     "name": "stdout",
     "output_type": "stream",
     "text": [
      "Call method is executed before display\n",
      "Display Function Ran.\n",
      "Call method is executed before display_info\n",
      "name is Ram and age is 26\n"
     ]
    }
   ],
   "source": [
    "# Decorator Class\n",
    "\n",
    "class decorator_class(object):\n",
    "    def __init__(self, orignal_function):\n",
    "        self.orignal_function = orignal_function\n",
    "    def __call__(self, *args, **kwargs):\n",
    "        print(\"Call method is executed before {}\".format(self.orignal_function.__name__))\n",
    "        return self.orignal_function(*args,**kwargs)\n",
    "\n",
    "@decorator_class # call method is assigned to orignal function in order to add some functionality.\n",
    "def display(): \n",
    "    print(\"Display Function Ran.\")\n",
    "\n",
    "@decorator_class  # using decorator\n",
    "def display_info(name,age): \n",
    "    print(f\"name is {name} and age is {age}\")\n",
    "\n",
    "display()\n",
    "display_info('Ram',26)"
   ]
  },
  {
   "cell_type": "code",
   "execution_count": 31,
   "metadata": {},
   "outputs": [
    {
     "name": "stdout",
     "output_type": "stream",
     "text": [
      "display_info ran with arguments (Tom, 22)\n",
      "display_info ran in: 1.0108025074005127 sec\n"
     ]
    }
   ],
   "source": [
    "# need to check it again, when using two decorators\n",
    "from functools import wraps\n",
    "\n",
    "\n",
    "def my_logger(orig_func):\n",
    "    import logging\n",
    "    logging.basicConfig(filename='{}.log'.format(orig_func.__name__), level=logging.INFO)\n",
    "\n",
    "    @wraps(orig_func)\n",
    "    def wrapper(*args, **kwargs):\n",
    "        logging.info(\n",
    "            'Ran with args: {}, and kwargs: {}'.format(args, kwargs))\n",
    "        return orig_func(*args, **kwargs)\n",
    "\n",
    "    return wrapper\n",
    "\n",
    "\n",
    "def my_timer(orig_func):\n",
    "    import time\n",
    "\n",
    "    @wraps(orig_func)\n",
    "    def wrapper(*args, **kwargs):\n",
    "        t1 = time.time()\n",
    "        result = orig_func(*args, **kwargs)\n",
    "        t2 = time.time() - t1\n",
    "        print('{} ran in: {} sec'.format(orig_func.__name__, t2))\n",
    "        return result\n",
    "\n",
    "    return wrapper\n",
    "\n",
    "import time\n",
    "\n",
    "\n",
    "@my_logger\n",
    "@my_timer\n",
    "def display_info(name, age):\n",
    "    time.sleep(1)\n",
    "    print('display_info ran with arguments ({}, {})'.format(name, age))\n",
    "\n",
    "display_info('Tom', 22)"
   ]
  },
  {
   "cell_type": "code",
   "execution_count": null,
   "metadata": {},
   "outputs": [],
   "source": []
  }
 ],
 "metadata": {
  "kernelspec": {
   "display_name": "Python 3",
   "language": "python",
   "name": "python3"
  },
  "language_info": {
   "codemirror_mode": {
    "name": "ipython",
    "version": 3
   },
   "file_extension": ".py",
   "mimetype": "text/x-python",
   "name": "python",
   "nbconvert_exporter": "python",
   "pygments_lexer": "ipython3",
   "version": "3.6.5"
  }
 },
 "nbformat": 4,
 "nbformat_minor": 2
}
