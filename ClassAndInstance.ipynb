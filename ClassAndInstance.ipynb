{
 "cells": [
  {
   "cell_type": "code",
   "execution_count": 2,
   "metadata": {},
   "outputs": [
    {
     "name": "stdout",
     "output_type": "stream",
     "text": [
      "<__main__.Employee object at 0x0000023755416EB8> <__main__.Employee object at 0x0000023755416E80>\n"
     ]
    }
   ],
   "source": [
    "class Employee:\n",
    "    pass\n",
    "e1 = Employee()\n",
    "e2 = Employee()\n",
    "\n",
    "print(e1,e2)"
   ]
  },
  {
   "cell_type": "code",
   "execution_count": 11,
   "metadata": {},
   "outputs": [
    {
     "name": "stdout",
     "output_type": "stream",
     "text": [
      "Ram.company.com\n",
      "Ram Narayan\n",
      "Shyam.company.com\n",
      "Shyam Nand\n"
     ]
    },
    {
     "data": {
      "text/plain": [
       "'Shyam Nand'"
      ]
     },
     "execution_count": 11,
     "metadata": {},
     "output_type": "execute_result"
    }
   ],
   "source": [
    "class Employee:\n",
    "    def __init__(self,first,last,age,salary):\n",
    "        self.first = first\n",
    "        self.last = last\n",
    "        self.age = age\n",
    "        self.salary = salary\n",
    "        self.email = first + '.' + 'company.com'\n",
    "    def fullname(self): # self must be writen in argument, because when this method is called by instance, instance will pass itself automatically.\n",
    "        return \"{0} {1}\".format(self.first, self.last)\n",
    "    \n",
    "e3 = Employee('Ram','Narayan',26,25000)\n",
    "e4 = Employee('Shyam','Nand',23,35000)\n",
    "\n",
    "print(e3.email)\n",
    "print(e3.fullname())\n",
    "print(e4.email)\n",
    "# These below two statements will do the same.\n",
    "print(e4.fullname())\n",
    "# We can also call method defined under class with class name: But we have to pass instance manually.\n",
    "Employee.fullname(e4)"
   ]
  },
  {
   "cell_type": "code",
   "execution_count": null,
   "metadata": {},
   "outputs": [],
   "source": []
  }
 ],
 "metadata": {
  "kernelspec": {
   "display_name": "Python 3",
   "language": "python",
   "name": "python3"
  },
  "language_info": {
   "codemirror_mode": {
    "name": "ipython",
    "version": 3
   },
   "file_extension": ".py",
   "mimetype": "text/x-python",
   "name": "python",
   "nbconvert_exporter": "python",
   "pygments_lexer": "ipython3",
   "version": "3.6.5"
  }
 },
 "nbformat": 4,
 "nbformat_minor": 2
}
