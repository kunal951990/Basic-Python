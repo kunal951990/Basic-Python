{
 "cells": [
  {
   "cell_type": "markdown",
   "metadata": {},
   "source": [
    "## List : list[], []"
   ]
  },
  {
   "cell_type": "code",
   "execution_count": 3,
   "metadata": {},
   "outputs": [
    {
     "name": "stdout",
     "output_type": "stream",
     "text": [
      "['History', 'Math', 'Physics', 'CompSci']\n"
     ]
    }
   ],
   "source": [
    "courses = ['History','Math','Physics','CompSci']\n",
    "print(courses)"
   ]
  },
  {
   "cell_type": "code",
   "execution_count": 4,
   "metadata": {},
   "outputs": [
    {
     "name": "stdout",
     "output_type": "stream",
     "text": [
      "['History', 'Math']\n"
     ]
    }
   ],
   "source": [
    "print(courses[:2])"
   ]
  },
  {
   "cell_type": "code",
   "execution_count": 5,
   "metadata": {},
   "outputs": [
    {
     "name": "stdout",
     "output_type": "stream",
     "text": [
      "['History', 'Math', 'Physics', 'CompSci', 'Art']\n"
     ]
    }
   ],
   "source": [
    "# Append\n",
    "courses.append('Art')\n",
    "print(courses)"
   ]
  },
  {
   "cell_type": "code",
   "execution_count": 8,
   "metadata": {},
   "outputs": [
    {
     "name": "stdout",
     "output_type": "stream",
     "text": [
      "Help on built-in function insert:\n",
      "\n",
      "insert(...) method of builtins.list instance\n",
      "    L.insert(index, object) -- insert object before index\n",
      "\n"
     ]
    }
   ],
   "source": [
    "help(courses.insert)"
   ]
  },
  {
   "cell_type": "code",
   "execution_count": 9,
   "metadata": {},
   "outputs": [
    {
     "name": "stdout",
     "output_type": "stream",
     "text": [
      "['Geometry', 'History', 'Math', 'Physics', 'CompSci', 'Art']\n"
     ]
    }
   ],
   "source": [
    "courses.insert(0, 'Geometry')\n",
    "print(courses)"
   ]
  },
  {
   "cell_type": "code",
   "execution_count": 10,
   "metadata": {},
   "outputs": [
    {
     "name": "stdout",
     "output_type": "stream",
     "text": [
      "['Geometry', 'ML', 'History', 'Math', 'Physics', 'CompSci', 'Art']\n"
     ]
    }
   ],
   "source": [
    "courses.insert(1, 'ML')\n",
    "print(courses)"
   ]
  },
  {
   "cell_type": "code",
   "execution_count": 11,
   "metadata": {},
   "outputs": [
    {
     "name": "stdout",
     "output_type": "stream",
     "text": [
      "['History', 'Math', 'Physics', 'CompSci', ['Art', 'ML']]\n"
     ]
    }
   ],
   "source": [
    "courses = ['History','Math','Physics','CompSci']\n",
    "course2 = ['Art','ML']\n",
    "courses.append(course2)\n",
    "print(courses)"
   ]
  },
  {
   "cell_type": "code",
   "execution_count": 12,
   "metadata": {},
   "outputs": [
    {
     "name": "stdout",
     "output_type": "stream",
     "text": [
      "[['Art', 'ML'], 'History', 'Math', 'Physics', 'CompSci']\n"
     ]
    }
   ],
   "source": [
    "courses = ['History','Math','Physics','CompSci']\n",
    "course2 = ['Art','ML']\n",
    "courses.insert(0,course2)\n",
    "print(courses)"
   ]
  },
  {
   "cell_type": "code",
   "execution_count": 13,
   "metadata": {},
   "outputs": [
    {
     "name": "stdout",
     "output_type": "stream",
     "text": [
      "['History', 'Math', 'Physics', 'CompSci', 'Art', 'ML']\n"
     ]
    }
   ],
   "source": [
    "# extend\n",
    "courses = ['History','Math','Physics','CompSci']\n",
    "course2 = ['Art','ML']\n",
    "courses.extend(course2)\n",
    "print(courses)"
   ]
  },
  {
   "cell_type": "code",
   "execution_count": 14,
   "metadata": {},
   "outputs": [
    {
     "name": "stdout",
     "output_type": "stream",
     "text": [
      "['History', 'Math', 'Physics', 'CompSci', 'ML']\n"
     ]
    }
   ],
   "source": [
    "# remove\n",
    "courses.remove('Art')\n",
    "print(courses)"
   ]
  },
  {
   "cell_type": "code",
   "execution_count": 17,
   "metadata": {},
   "outputs": [
    {
     "name": "stdout",
     "output_type": "stream",
     "text": [
      "['History', 'Math', 'Physics']\n",
      "CompSci\n"
     ]
    }
   ],
   "source": [
    "# pop : by default it will remove the last value of list\n",
    "courses = ['History','Math','Physics','CompSci']\n",
    "popped = courses.pop() # pop will return the last value and we can grab it.\n",
    "print(courses)\n",
    "print(popped)"
   ]
  },
  {
   "cell_type": "code",
   "execution_count": 18,
   "metadata": {},
   "outputs": [
    {
     "name": "stdout",
     "output_type": "stream",
     "text": [
      "['CompSci', 'Physics', 'Math', 'History']\n"
     ]
    }
   ],
   "source": [
    "# reverse\n",
    "courses = ['History','Math','Physics','CompSci']\n",
    "courses.reverse() \n",
    "print(courses)"
   ]
  },
  {
   "cell_type": "code",
   "execution_count": 19,
   "metadata": {},
   "outputs": [
    {
     "name": "stdout",
     "output_type": "stream",
     "text": [
      "['CompSci', 'History', 'Math', 'Physics']\n"
     ]
    }
   ],
   "source": [
    "# sort\n",
    "courses = ['History','Math','Physics','CompSci']\n",
    "courses.sort()\n",
    "print(courses)"
   ]
  },
  {
   "cell_type": "code",
   "execution_count": 20,
   "metadata": {},
   "outputs": [
    {
     "name": "stdout",
     "output_type": "stream",
     "text": [
      "[1, 2, 4, 5, 6, 8]\n"
     ]
    }
   ],
   "source": [
    "num = [1,4,2,5,8,6]\n",
    "num.sort()\n",
    "print(num)"
   ]
  },
  {
   "cell_type": "code",
   "execution_count": 22,
   "metadata": {},
   "outputs": [
    {
     "name": "stdout",
     "output_type": "stream",
     "text": [
      "[1, 2, 4, 5, 6, 8]\n",
      "['Physics', 'Math', 'History', 'CompSci']\n"
     ]
    }
   ],
   "source": [
    "# sort in Descending order\n",
    "courses = ['History','Math','Physics','CompSci']\n",
    "courses.sort(reverse = True) # decending\n",
    "num = [1,4,2,5,8,6]\n",
    "num.sort(reverse = False) # ascending\n",
    "print(num)\n",
    "print(courses)"
   ]
  },
  {
   "cell_type": "code",
   "execution_count": 24,
   "metadata": {},
   "outputs": [
    {
     "name": "stdout",
     "output_type": "stream",
     "text": [
      "['History', 'Math', 'Physics', 'CompSci']\n",
      "['CompSci', 'History', 'Math', 'Physics']\n"
     ]
    }
   ],
   "source": [
    "# As we know sort(), append(),insert(),extend() and reverse() will update the List itself on which they are called\n",
    "# sorted: on the otherhand give a sorted List.\n",
    "courses = ['History','Math','Physics','CompSci']\n",
    "course1 = sorted(courses)\n",
    "print(courses)\n",
    "print(course1)"
   ]
  },
  {
   "cell_type": "code",
   "execution_count": 27,
   "metadata": {},
   "outputs": [
    {
     "name": "stdout",
     "output_type": "stream",
     "text": [
      "26\n"
     ]
    }
   ],
   "source": [
    "num = [1,4,2,5,8,6]\n",
    "sum_num = sum(num)\n",
    "print(sum_num)"
   ]
  },
  {
   "cell_type": "code",
   "execution_count": 28,
   "metadata": {},
   "outputs": [
    {
     "name": "stdout",
     "output_type": "stream",
     "text": [
      "8\n"
     ]
    }
   ],
   "source": [
    "max_num = max(num)\n",
    "print(max_num)"
   ]
  },
  {
   "cell_type": "code",
   "execution_count": 29,
   "metadata": {},
   "outputs": [
    {
     "name": "stdout",
     "output_type": "stream",
     "text": [
      "3\n"
     ]
    }
   ],
   "source": [
    "# index : to find index of a particular item of list\n",
    "courses = ['History','Math','Physics','CompSci']\n",
    "print(courses.index('CompSci'))"
   ]
  },
  {
   "cell_type": "code",
   "execution_count": 38,
   "metadata": {},
   "outputs": [
    {
     "name": "stdout",
     "output_type": "stream",
     "text": [
      "['History', 'Math', 'Physics', 'CompSci']\n",
      "['History', 'Math', 'Physics', 'CompSci']\n"
     ]
    }
   ],
   "source": [
    "list_1 = ['History', 'Math', 'Physics', 'CompSci']\n",
    "list_2 = list_1\n",
    "\n",
    "print(list_1)\n",
    "print(list_2)"
   ]
  },
  {
   "cell_type": "code",
   "execution_count": 37,
   "metadata": {},
   "outputs": [
    {
     "name": "stdout",
     "output_type": "stream",
     "text": [
      "['Art', 'Math', 'Physics', 'CompSci']\n",
      "['Art', 'Math', 'Physics', 'CompSci']\n"
     ]
    }
   ],
   "source": [
    "# Mutable : List is mutable\n",
    "list_1 = ['History', 'Math', 'Physics', 'CompSci']\n",
    "list_2 = list_1\n",
    "\n",
    "list_1[0] = 'Art'\n",
    "\n",
    "print(list_1)\n",
    "print(list_2)"
   ]
  },
  {
   "cell_type": "markdown",
   "metadata": {},
   "source": [
    "## Tuple : tuple(), ()\n",
    "### We can navigate through tuple , we can do everything which we can do with list except altering operations.\n",
    "### We use tuple when no change is needed. "
   ]
  },
  {
   "cell_type": "code",
   "execution_count": 33,
   "metadata": {},
   "outputs": [
    {
     "ename": "TypeError",
     "evalue": "'tuple' object does not support item assignment",
     "output_type": "error",
     "traceback": [
      "\u001b[1;31m---------------------------------------------------------------------------\u001b[0m",
      "\u001b[1;31mTypeError\u001b[0m                                 Traceback (most recent call last)",
      "\u001b[1;32m<ipython-input-33-71e627dee149>\u001b[0m in \u001b[0;36m<module>\u001b[1;34m()\u001b[0m\n\u001b[0;32m      3\u001b[0m \u001b[0mtuple_2\u001b[0m \u001b[1;33m=\u001b[0m \u001b[0mtuple_1\u001b[0m\u001b[1;33m\u001b[0m\u001b[0m\n\u001b[0;32m      4\u001b[0m \u001b[1;33m\u001b[0m\u001b[0m\n\u001b[1;32m----> 5\u001b[1;33m \u001b[0mtuple_1\u001b[0m\u001b[1;33m[\u001b[0m\u001b[1;36m0\u001b[0m\u001b[1;33m]\u001b[0m \u001b[1;33m=\u001b[0m \u001b[1;34m'Art'\u001b[0m\u001b[1;33m\u001b[0m\u001b[0m\n\u001b[0m\u001b[0;32m      6\u001b[0m \u001b[1;33m\u001b[0m\u001b[0m\n\u001b[0;32m      7\u001b[0m \u001b[0mprint\u001b[0m\u001b[1;33m(\u001b[0m\u001b[0mtuple_1\u001b[0m\u001b[1;33m)\u001b[0m\u001b[1;33m\u001b[0m\u001b[0m\n",
      "\u001b[1;31mTypeError\u001b[0m: 'tuple' object does not support item assignment"
     ]
    }
   ],
   "source": [
    "# Immutable : Tuple is immutable\n",
    "tuple_1 = ('History', 'Math', 'Physics', 'CompSci')\n",
    "tuple_2 = tuple_1\n",
    "\n",
    "tuple_1[0] = 'Art'\n",
    "\n",
    "print(tuple_1)\n",
    "print(tuple_2)"
   ]
  },
  {
   "cell_type": "code",
   "execution_count": 34,
   "metadata": {},
   "outputs": [
    {
     "name": "stdout",
     "output_type": "stream",
     "text": [
      "('History', 'Math', 'Physics', 'CompSci')\n",
      "('History', 'Math', 'Physics', 'CompSci')\n"
     ]
    }
   ],
   "source": [
    "# Immutable\n",
    "tuple_1 = ('History', 'Math', 'Physics', 'CompSci')\n",
    "tuple_2 = tuple_1\n",
    "\n",
    "print(tuple_1)\n",
    "print(tuple_2)"
   ]
  },
  {
   "cell_type": "markdown",
   "metadata": {},
   "source": [
    "## Set : set{} but not {}, since {} it is a dictionary"
   ]
  },
  {
   "cell_type": "code",
   "execution_count": 42,
   "metadata": {},
   "outputs": [
    {
     "name": "stdout",
     "output_type": "stream",
     "text": [
      "{'Physics', 'Math', 'History', 'Science'}\n"
     ]
    }
   ],
   "source": [
    "cs_courses = {'History','Math','Science','Physics'}\n",
    "print(cs_courses)"
   ]
  },
  {
   "cell_type": "code",
   "execution_count": 50,
   "metadata": {},
   "outputs": [
    {
     "name": "stdout",
     "output_type": "stream",
     "text": [
      "{'Math', 'History'}\n"
     ]
    }
   ],
   "source": [
    "cs_courses = {'History','Math','Science','Physics'}\n",
    "art_courses = {'History','Math','Design','Art'}\n",
    "\n",
    "print(cs_courses.intersection(art_courses))"
   ]
  },
  {
   "cell_type": "code",
   "execution_count": 51,
   "metadata": {},
   "outputs": [
    {
     "name": "stdout",
     "output_type": "stream",
     "text": [
      "{'Physics', 'Science'}\n"
     ]
    }
   ],
   "source": [
    "print(cs_courses.difference(art_courses))"
   ]
  },
  {
   "cell_type": "code",
   "execution_count": 52,
   "metadata": {},
   "outputs": [
    {
     "name": "stdout",
     "output_type": "stream",
     "text": [
      "{'Art', 'Math', 'History', 'Science', 'Design', 'Physics'}\n"
     ]
    }
   ],
   "source": [
    "print(cs_courses.union(art_courses))"
   ]
  },
  {
   "cell_type": "markdown",
   "metadata": {},
   "source": [
    "## Empty list and tuple and set"
   ]
  },
  {
   "cell_type": "code",
   "execution_count": 53,
   "metadata": {},
   "outputs": [],
   "source": [
    "# Empty Lists\n",
    "empty_list = []\n",
    "empty_list = list()\n",
    "\n",
    "# Empty Tuples\n",
    "empty_tuple = ()\n",
    "empty_tuple = tuple()\n",
    "\n",
    "# Empty Sets\n",
    "empty_set = {} # This isn't right! It's a dict\n",
    "empty_set = set()"
   ]
  },
  {
   "cell_type": "code",
   "execution_count": null,
   "metadata": {},
   "outputs": [],
   "source": []
  }
 ],
 "metadata": {
  "kernelspec": {
   "display_name": "Python 3",
   "language": "python",
   "name": "python3"
  },
  "language_info": {
   "codemirror_mode": {
    "name": "ipython",
    "version": 3
   },
   "file_extension": ".py",
   "mimetype": "text/x-python",
   "name": "python",
   "nbconvert_exporter": "python",
   "pygments_lexer": "ipython3",
   "version": "3.6.5"
  }
 },
 "nbformat": 4,
 "nbformat_minor": 2
}
