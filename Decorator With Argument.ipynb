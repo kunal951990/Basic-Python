{
 "cells": [
  {
   "cell_type": "code",
   "execution_count": 3,
   "metadata": {},
   "outputs": [
    {
     "name": "stdout",
     "output_type": "stream",
     "text": [
      "Additional Line from wrapper function.\n",
      "This is test.\n"
     ]
    }
   ],
   "source": [
    "def decorator_function(orignal_function):\n",
    "    def wrapper_function(*args,**kwargs):\n",
    "        print(\"Additional Line from wrapper function.\")\n",
    "        return orignal_function(*args,**kwargs)\n",
    "    return wrapper_function # returning wrapper function waiting to be executed.\n",
    "\n",
    "@decorator_function\n",
    "def display():\n",
    "    print(\"This is test.\")\n",
    "    \n",
    "display()"
   ]
  },
  {
   "cell_type": "code",
   "execution_count": 10,
   "metadata": {},
   "outputs": [
    {
     "name": "stdout",
     "output_type": "stream",
     "text": [
      "Added Prefix:  Executed some code before orignal function display\n",
      "This is test.\n",
      "Added Prefix:  Executed some code after orignal function display\n"
     ]
    }
   ],
   "source": [
    "# argument passing with decorator\n",
    "\n",
    "def prefix_decorator(prefix):\n",
    "    def decorator_function(orignal_function):\n",
    "        def wrapper_function(*args,**kwargs):\n",
    "            print(prefix,\"Executed some code before orignal function {}\".format(orignal_function.__name__))\n",
    "            result = orignal_function(*args,**kwargs)\n",
    "            print(prefix,\"Executed some code after orignal function {}\".format(orignal_function.__name__))\n",
    "            return result\n",
    "        return wrapper_function\n",
    "    return decorator_function\n",
    "\n",
    "@prefix_decorator('Added Prefix: ')\n",
    "def display():\n",
    "    print(\"This is test.\")\n",
    "    \n",
    "display()"
   ]
  },
  {
   "cell_type": "code",
   "execution_count": null,
   "metadata": {},
   "outputs": [],
   "source": []
  }
 ],
 "metadata": {
  "kernelspec": {
   "display_name": "Python 3",
   "language": "python",
   "name": "python3"
  },
  "language_info": {
   "codemirror_mode": {
    "name": "ipython",
    "version": 3
   },
   "file_extension": ".py",
   "mimetype": "text/x-python",
   "name": "python",
   "nbconvert_exporter": "python",
   "pygments_lexer": "ipython3",
   "version": "3.6.5"
  }
 },
 "nbformat": 4,
 "nbformat_minor": 2
}
