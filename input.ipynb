{
 "cells": [
  {
   "cell_type": "code",
   "execution_count": 1,
   "metadata": {},
   "outputs": [
    {
     "name": "stdout",
     "output_type": "stream",
     "text": [
      "1st Number: 1\n",
      "2nd Number: 2\n",
      "3rd Number: 3\n",
      "Addition of all numbers equals to 6\n"
     ]
    }
   ],
   "source": [
    "x = int(input(\"1st Number: \"))\n",
    "y = int(input(\"2nd Number: \"))\n",
    "z = int(input(\"3rd Number: \"))\n",
    "print(\"Addition of all numbers equals to {}\".format(x+y+z))"
   ]
  },
  {
   "cell_type": "code",
   "execution_count": 2,
   "metadata": {},
   "outputs": [
    {
     "name": "stdout",
     "output_type": "stream",
     "text": [
      " Volume in drive C has no label.\n",
      " Volume Serial Number is 7AB2-0A97\n",
      "\n",
      " Directory of C:\\Users\\kisku\n",
      "\n",
      "01/06/2019  02:40 PM    <DIR>          .\n",
      "01/06/2019  02:40 PM    <DIR>          ..\n",
      "12/15/2018  06:47 AM    <DIR>          .anaconda\n",
      "11/11/2017  03:20 PM    <DIR>          .AndroidStudio3.0\n",
      "12/29/2018  04:05 PM               874 .bash_history\n",
      "12/15/2018  06:56 AM    <DIR>          .conda\n",
      "12/15/2018  06:49 AM                43 .condarc\n",
      "09/29/2018  10:52 PM               126 .defaults-0.1.0.ini\n",
      "06/03/2018  07:53 PM    <DIR>          .eclipse\n",
      "07/09/2017  12:48 AM                16 .emulator_console_auth_token\n",
      "11/11/2017  04:53 PM    <DIR>          .gradle\n",
      "12/30/2017  12:52 PM    <DIR>          .idlerc\n",
      "01/06/2019  01:35 PM    <DIR>          .ipynb_checkpoints\n",
      "09/13/2018  12:09 AM    <DIR>          .ipython\n",
      "10/16/2018  06:19 AM    <DIR>          .jupyter\n",
      "09/09/2018  01:04 PM    <DIR>          .keras\n",
      "06/01/2018  11:04 PM    <DIR>          .m2\n",
      "09/13/2018  12:09 AM    <DIR>          .matplotlib\n",
      "09/08/2018  11:39 AM                14 .minttyrc\n",
      "07/23/2016  12:49 PM    <DIR>          .oracle_jre_usage\n",
      "09/29/2018  01:42 PM    <DIR>          .p2\n",
      "01/01/2019  11:33 PM               390 .python_history\n",
      "01/05/2019  06:15 AM    <DIR>          .spyder-py3\n",
      "06/02/2018  12:15 AM    <DIR>          .tooling\n",
      "07/09/2017  07:00 PM    <DIR>          .VirtualBox\n",
      "09/07/2018  10:59 PM    <DIR>          .vscode\n",
      "12/30/2018  04:05 AM    <DIR>          3D Objects\n",
      "01/01/2019  11:40 PM    <DIR>          Anaconda3\n",
      "03/12/2018  12:13 AM    <DIR>          AndroidStudioProjects\n",
      "12/30/2018  04:05 AM    <DIR>          Contacts\n",
      "12/15/2018  05:45 PM            39,993 DataFrame.ipynb\n",
      "01/06/2019  01:32 PM    <DIR>          Desktop\n",
      "01/06/2019  12:31 AM             3,335 Dictionary.ipynb\n",
      "12/30/2018  04:05 AM    <DIR>          Documents\n",
      "01/06/2019  02:03 AM    <DIR>          Downloads\n",
      "06/02/2018  12:10 AM    <DIR>          eclipse\n",
      "06/03/2018  07:53 PM    <DIR>          eclipse-workspace\n",
      "12/30/2018  04:05 AM    <DIR>          Favorites\n",
      "12/15/2018  11:34 AM             6,017 first_jupyter.ipynb\n",
      "01/06/2019  01:29 AM             1,593 function_ex.ipynb\n",
      "01/06/2019  02:40 PM             1,076 input.ipynb\n",
      "11/18/2016  04:04 PM                 0 java\n",
      "01/01/2019  11:46 AM    <DIR>          lightfm_data\n",
      "12/30/2018  04:05 AM    <DIR>          Links\n",
      "01/05/2019  11:53 PM            13,279 list_tuple_set.ipynb\n",
      "12/30/2018  04:05 AM    <DIR>          Music\n",
      "02/12/2018  02:44 AM                10 MySQL.sql\n",
      "02/19/2018  09:17 PM               223 MySQL~1.sql\n",
      "01/05/2019  10:19 PM             4,955 Num_Float.ipynb\n",
      "12/20/2018  11:37 PM    <DIR>          OneDrive\n",
      "12/31/2017  06:08 PM    <DIR>          Oracle\n",
      "12/30/2018  04:05 AM    <DIR>          Pictures\n",
      "09/30/2018  12:43 AM    <DIR>          Python_Amazon_Automate\n",
      "10/13/2018  07:26 PM    <DIR>          Python_POM\n",
      "12/30/2018  04:05 AM    <DIR>          Saved Games\n",
      "12/30/2018  04:05 AM    <DIR>          Searches\n",
      "10/13/2018  06:12 PM    <DIR>          spfm\n",
      "01/05/2019  09:41 PM            21,503 String.ipynb\n",
      "01/04/2018  12:55 AM               214 Test.sql\n",
      "11/10/2016  11:22 PM    <DIR>          Tracing\n",
      "10/16/2018  06:19 AM                72 Untitled.ipynb\n",
      "01/05/2019  08:20 PM               799 Untitled1.ipynb\n",
      "12/30/2018  04:05 AM    <DIR>          Videos\n",
      "09/24/2016  02:21 PM    <DIR>          workspace\n",
      "              20 File(s)         94,532 bytes\n",
      "              44 Dir(s)  740,881,068,032 bytes free\n"
     ]
    }
   ],
   "source": [
    "ls"
   ]
  },
  {
   "cell_type": "code",
   "execution_count": 4,
   "metadata": {},
   "outputs": [
    {
     "data": {
      "text/plain": [
       "'C:\\\\Users\\\\kisku'"
      ]
     },
     "execution_count": 4,
     "metadata": {},
     "output_type": "execute_result"
    }
   ],
   "source": [
    "%pwd"
   ]
  },
  {
   "cell_type": "code",
   "execution_count": 6,
   "metadata": {},
   "outputs": [
    {
     "data": {
      "application/json": {
       "cell": {
        "!": "OSMagics",
        "HTML": "Other",
        "SVG": "Other",
        "bash": "Other",
        "capture": "ExecutionMagics",
        "cmd": "Other",
        "debug": "ExecutionMagics",
        "file": "Other",
        "html": "DisplayMagics",
        "javascript": "DisplayMagics",
        "js": "DisplayMagics",
        "latex": "DisplayMagics",
        "markdown": "DisplayMagics",
        "perl": "Other",
        "prun": "ExecutionMagics",
        "pypy": "Other",
        "python": "Other",
        "python2": "Other",
        "python3": "Other",
        "ruby": "Other",
        "script": "ScriptMagics",
        "sh": "Other",
        "svg": "DisplayMagics",
        "sx": "OSMagics",
        "system": "OSMagics",
        "time": "ExecutionMagics",
        "timeit": "ExecutionMagics",
        "writefile": "OSMagics"
       },
       "line": {
        "alias": "OSMagics",
        "alias_magic": "BasicMagics",
        "autocall": "AutoMagics",
        "automagic": "AutoMagics",
        "autosave": "KernelMagics",
        "bookmark": "OSMagics",
        "cd": "OSMagics",
        "clear": "KernelMagics",
        "cls": "KernelMagics",
        "colors": "BasicMagics",
        "config": "ConfigMagics",
        "connect_info": "KernelMagics",
        "copy": "Other",
        "ddir": "Other",
        "debug": "ExecutionMagics",
        "dhist": "OSMagics",
        "dirs": "OSMagics",
        "doctest_mode": "BasicMagics",
        "echo": "Other",
        "ed": "Other",
        "edit": "KernelMagics",
        "env": "OSMagics",
        "gui": "BasicMagics",
        "hist": "Other",
        "history": "HistoryMagics",
        "killbgscripts": "ScriptMagics",
        "ldir": "Other",
        "less": "KernelMagics",
        "load": "CodeMagics",
        "load_ext": "ExtensionMagics",
        "loadpy": "CodeMagics",
        "logoff": "LoggingMagics",
        "logon": "LoggingMagics",
        "logstart": "LoggingMagics",
        "logstate": "LoggingMagics",
        "logstop": "LoggingMagics",
        "ls": "Other",
        "lsmagic": "BasicMagics",
        "macro": "ExecutionMagics",
        "magic": "BasicMagics",
        "matplotlib": "PylabMagics",
        "mkdir": "Other",
        "more": "KernelMagics",
        "notebook": "BasicMagics",
        "page": "BasicMagics",
        "pastebin": "CodeMagics",
        "pdb": "ExecutionMagics",
        "pdef": "NamespaceMagics",
        "pdoc": "NamespaceMagics",
        "pfile": "NamespaceMagics",
        "pinfo": "NamespaceMagics",
        "pinfo2": "NamespaceMagics",
        "pip": "BasicMagics",
        "popd": "OSMagics",
        "pprint": "BasicMagics",
        "precision": "BasicMagics",
        "profile": "BasicMagics",
        "prun": "ExecutionMagics",
        "psearch": "NamespaceMagics",
        "psource": "NamespaceMagics",
        "pushd": "OSMagics",
        "pwd": "OSMagics",
        "pycat": "OSMagics",
        "pylab": "PylabMagics",
        "qtconsole": "KernelMagics",
        "quickref": "BasicMagics",
        "recall": "HistoryMagics",
        "rehashx": "OSMagics",
        "reload_ext": "ExtensionMagics",
        "ren": "Other",
        "rep": "Other",
        "rerun": "HistoryMagics",
        "reset": "NamespaceMagics",
        "reset_selective": "NamespaceMagics",
        "rmdir": "Other",
        "run": "ExecutionMagics",
        "save": "CodeMagics",
        "sc": "OSMagics",
        "set_env": "OSMagics",
        "store": "StoreMagics",
        "sx": "OSMagics",
        "system": "OSMagics",
        "tb": "ExecutionMagics",
        "time": "ExecutionMagics",
        "timeit": "ExecutionMagics",
        "unalias": "OSMagics",
        "unload_ext": "ExtensionMagics",
        "who": "NamespaceMagics",
        "who_ls": "NamespaceMagics",
        "whos": "NamespaceMagics",
        "xdel": "NamespaceMagics",
        "xmode": "BasicMagics"
       }
      },
      "text/plain": [
       "Available line magics:\n",
       "%alias  %alias_magic  %autocall  %automagic  %autosave  %bookmark  %cd  %clear  %cls  %colors  %config  %connect_info  %copy  %ddir  %debug  %dhist  %dirs  %doctest_mode  %echo  %ed  %edit  %env  %gui  %hist  %history  %killbgscripts  %ldir  %less  %load  %load_ext  %loadpy  %logoff  %logon  %logstart  %logstate  %logstop  %ls  %lsmagic  %macro  %magic  %matplotlib  %mkdir  %more  %notebook  %page  %pastebin  %pdb  %pdef  %pdoc  %pfile  %pinfo  %pinfo2  %popd  %pprint  %precision  %profile  %prun  %psearch  %psource  %pushd  %pwd  %pycat  %pylab  %qtconsole  %quickref  %recall  %rehashx  %reload_ext  %ren  %rep  %rerun  %reset  %reset_selective  %rmdir  %run  %save  %sc  %set_env  %store  %sx  %system  %tb  %time  %timeit  %unalias  %unload_ext  %who  %who_ls  %whos  %xdel  %xmode\n",
       "\n",
       "Available cell magics:\n",
       "%%!  %%HTML  %%SVG  %%bash  %%capture  %%cmd  %%debug  %%file  %%html  %%javascript  %%js  %%latex  %%markdown  %%perl  %%prun  %%pypy  %%python  %%python2  %%python3  %%ruby  %%script  %%sh  %%svg  %%sx  %%system  %%time  %%timeit  %%writefile\n",
       "\n",
       "Automagic is ON, % prefix IS NOT needed for line magics."
      ]
     },
     "execution_count": 6,
     "metadata": {},
     "output_type": "execute_result"
    }
   ],
   "source": [
    "%lsmagic"
   ]
  },
  {
   "cell_type": "code",
   "execution_count": null,
   "metadata": {},
   "outputs": [],
   "source": []
  }
 ],
 "metadata": {
  "kernelspec": {
   "display_name": "Python 3",
   "language": "python",
   "name": "python3"
  },
  "language_info": {
   "codemirror_mode": {
    "name": "ipython",
    "version": 3
   },
   "file_extension": ".py",
   "mimetype": "text/x-python",
   "name": "python",
   "nbconvert_exporter": "python",
   "pygments_lexer": "ipython3",
   "version": "3.6.5"
  }
 },
 "nbformat": 4,
 "nbformat_minor": 2
}
