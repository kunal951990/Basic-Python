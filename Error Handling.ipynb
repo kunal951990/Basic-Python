{
 "cells": [
  {
   "cell_type": "code",
   "execution_count": 1,
   "metadata": {},
   "outputs": [
    {
     "ename": "NameError",
     "evalue": "name 'bad_var' is not defined",
     "output_type": "error",
     "traceback": [
      "\u001b[1;31m---------------------------------------------------------------------------\u001b[0m",
      "\u001b[1;31mNameError\u001b[0m                                 Traceback (most recent call last)",
      "\u001b[1;32m<ipython-input-1-0711a8311eba>\u001b[0m in \u001b[0;36m<module>\u001b[1;34m()\u001b[0m\n\u001b[1;32m----> 1\u001b[1;33m \u001b[0mvar\u001b[0m \u001b[1;33m=\u001b[0m \u001b[0mbad_var\u001b[0m\u001b[1;33m\u001b[0m\u001b[0m\n\u001b[0m",
      "\u001b[1;31mNameError\u001b[0m: name 'bad_var' is not defined"
     ]
    }
   ],
   "source": [
    "var = bad_var"
   ]
  },
  {
   "cell_type": "code",
   "execution_count": 3,
   "metadata": {},
   "outputs": [
    {
     "name": "stdout",
     "output_type": "stream",
     "text": [
      "Something got wrong\n"
     ]
    }
   ],
   "source": [
    "try:\n",
    "    var = bad_var\n",
    "except Exception:\n",
    "    print('Something got wrong')"
   ]
  },
  {
   "cell_type": "code",
   "execution_count": 4,
   "metadata": {},
   "outputs": [
    {
     "name": "stdout",
     "output_type": "stream",
     "text": [
      "Something got wrong\n"
     ]
    }
   ],
   "source": [
    "try:\n",
    "    f = open(\"New.txt\")\n",
    "    var = bad_var\n",
    "except Exception:\n",
    "    print('Something got wrong')"
   ]
  },
  {
   "cell_type": "code",
   "execution_count": 9,
   "metadata": {},
   "outputs": [
    {
     "name": "stdout",
     "output_type": "stream",
     "text": [
      "Something got wrong\n"
     ]
    }
   ],
   "source": [
    "try:\n",
    "   # f = open(\"New.txt\")\n",
    "    var = bad_var\n",
    "except FileNotFoundError:\n",
    "    print(\"File doesn't exist\")\n",
    "except Exception:\n",
    "    print('Something got wrong')"
   ]
  },
  {
   "cell_type": "code",
   "execution_count": 10,
   "metadata": {},
   "outputs": [
    {
     "name": "stdout",
     "output_type": "stream",
     "text": [
      "[Errno 2] No such file or directory: 'New.txt'\n"
     ]
    }
   ],
   "source": [
    "try:\n",
    "    f = open(\"New.txt\")\n",
    "    var = bad_var\n",
    "except FileNotFoundError as e:\n",
    "    print(e)\n",
    "except Exception as e:\n",
    "    print(e)"
   ]
  },
  {
   "cell_type": "code",
   "execution_count": 11,
   "metadata": {},
   "outputs": [
    {
     "name": "stdout",
     "output_type": "stream",
     "text": [
      "name 'bad_var' is not defined\n"
     ]
    }
   ],
   "source": [
    "try:\n",
    "    #f = open(\"New.txt\")\n",
    "    var = bad_var\n",
    "except FileNotFoundError as e:\n",
    "    print(e)\n",
    "except Exception as e:\n",
    "    print(e)"
   ]
  },
  {
   "cell_type": "code",
   "execution_count": 12,
   "metadata": {},
   "outputs": [
    {
     "name": "stdout",
     "output_type": "stream",
     "text": [
      "First!\n",
      "Executing Finally...\n",
      "End of program\n"
     ]
    }
   ],
   "source": [
    "# else is executed when the code in try block is not generating any exception \n",
    "#whereas finally is executed witout caring about exception and else.\n",
    "try:\n",
    "    f = open('curruptfile.txt')\n",
    "    # if f.name == 'currupt_file.txt':\n",
    "    #     raise Exception\n",
    "except IOError as e:\n",
    "    print('First!')\n",
    "except Exception as e:\n",
    "    print('Second')\n",
    "else:\n",
    "    print(f.read())\n",
    "    f.close()\n",
    "finally:\n",
    "    print(\"Executing Finally...\")\n",
    "\n",
    "print('End of program')"
   ]
  },
  {
   "cell_type": "code",
   "execution_count": null,
   "metadata": {},
   "outputs": [],
   "source": []
  }
 ],
 "metadata": {
  "kernelspec": {
   "display_name": "Python 3",
   "language": "python",
   "name": "python3"
  },
  "language_info": {
   "codemirror_mode": {
    "name": "ipython",
    "version": 3
   },
   "file_extension": ".py",
   "mimetype": "text/x-python",
   "name": "python",
   "nbconvert_exporter": "python",
   "pygments_lexer": "ipython3",
   "version": "3.6.5"
  }
 },
 "nbformat": 4,
 "nbformat_minor": 2
}
