{
 "cells": [
  {
   "cell_type": "markdown",
   "metadata": {},
   "source": [
    "## Closure: \n",
    "A Closure is a function object that remembers values in enclosing scopes even if they are not present in memory."
   ]
  },
  {
   "cell_type": "code",
   "execution_count": 2,
   "metadata": {},
   "outputs": [
    {
     "name": "stdout",
     "output_type": "stream",
     "text": [
      "Hi\n"
     ]
    }
   ],
   "source": [
    "def outer_func():\n",
    "    mess = 'Hi'\n",
    "    \n",
    "    def inner_func():\n",
    "        print(mess)\n",
    "        \n",
    "    return inner_func() # we are executing function in return\n",
    "\n",
    "outer_func() "
   ]
  },
  {
   "cell_type": "code",
   "execution_count": 3,
   "metadata": {},
   "outputs": [
    {
     "data": {
      "text/plain": [
       "<function __main__.outer_func.<locals>.inner_func()>"
      ]
     },
     "execution_count": 3,
     "metadata": {},
     "output_type": "execute_result"
    }
   ],
   "source": [
    "def outer_func():\n",
    "    mess = 'Hi'\n",
    "    \n",
    "    def inner_func():\n",
    "        print(mess)\n",
    "        \n",
    "    return inner_func # we are not executing function in return\n",
    "\n",
    "outer_func() # here we are returning inner function."
   ]
  },
  {
   "cell_type": "code",
   "execution_count": 5,
   "metadata": {},
   "outputs": [
    {
     "name": "stdout",
     "output_type": "stream",
     "text": [
      "<function outer_func.<locals>.inner_func at 0x000002596C68C2F0>\n"
     ]
    }
   ],
   "source": [
    "def outer_func():\n",
    "    mess = 'Hi'\n",
    "    \n",
    "    def inner_func():\n",
    "        print(mess)\n",
    "        \n",
    "    return inner_func # we are not executing function in return\n",
    "\n",
    "f= outer_func() # here we are returning inner function and assigning to a variable.\n",
    "print(f) # printing the value of variable"
   ]
  },
  {
   "cell_type": "code",
   "execution_count": 6,
   "metadata": {},
   "outputs": [
    {
     "name": "stdout",
     "output_type": "stream",
     "text": [
      "Hi\n",
      "None\n"
     ]
    }
   ],
   "source": [
    "def outer_func():\n",
    "    mess = 'Hi'\n",
    "    \n",
    "    def inner_func():\n",
    "        print(mess)\n",
    "        \n",
    "    return inner_func # we are not executing function in return\n",
    "\n",
    "f= outer_func() # here we are returning inner function and assigning to a variable.\n",
    "print(f()) # printing the executed result as parenthesis is used here."
   ]
  },
  {
   "cell_type": "code",
   "execution_count": 7,
   "metadata": {},
   "outputs": [
    {
     "name": "stdout",
     "output_type": "stream",
     "text": [
      "inner_func\n"
     ]
    }
   ],
   "source": [
    "def outer_func():\n",
    "    mess = 'Hi'\n",
    "    \n",
    "    def inner_func():\n",
    "        print(mess)\n",
    "        \n",
    "    return inner_func # we are not executing function in return\n",
    "\n",
    "f= outer_func() # here we are returning inner function and assigning to a variable.\n",
    "print(f.__name__) # printing the value of variable"
   ]
  },
  {
   "cell_type": "code",
   "execution_count": 8,
   "metadata": {},
   "outputs": [
    {
     "name": "stdout",
     "output_type": "stream",
     "text": [
      "Hi\n",
      "Hi\n",
      "Hi\n"
     ]
    }
   ],
   "source": [
    "def outer_func():\n",
    "    mess = 'Hi'\n",
    "    \n",
    "    def inner_func():\n",
    "        print(mess)\n",
    "        \n",
    "    return inner_func # we are not executing function in return\n",
    "\n",
    "f = outer_func() # here we are returning inner function and assigning to a variable.\n",
    "# alraedy we have executed the outer_func()\n",
    "f() # the returned inner_func is still holding the free variable even after the outer function has finished execution.\n",
    "f()\n",
    "f()"
   ]
  },
  {
   "cell_type": "markdown",
   "metadata": {},
   "source": [
    "## Conclusion: A closure is an inner function that remebers variables in a local scope that is also called as \"free variable\", even after the outer function has finished executing."
   ]
  },
  {
   "cell_type": "code",
   "execution_count": 10,
   "metadata": {},
   "outputs": [
    {
     "name": "stdout",
     "output_type": "stream",
     "text": [
      "inner_func\n",
      "inner_func\n",
      "Hi\n",
      "Hello\n"
     ]
    }
   ],
   "source": [
    "def outer_func(msg):\n",
    "    message = msg\n",
    "    \n",
    "    def inner_func():\n",
    "        print(message)\n",
    "        \n",
    "    return inner_func # we are not executing function in return\n",
    "\n",
    "f = outer_func('Hi') \n",
    "g = outer_func('Hello') \n",
    "# execution of outer function has been completed\n",
    "print(f.__name__)\n",
    "print(g.__name__)\n",
    "# See above both are inner functions.\n",
    "\n",
    "f() # even though they are holding the free variable from outer function.\n",
    "g() # even though they are holding the free variable from outer function."
   ]
  },
  {
   "cell_type": "code",
   "execution_count": 11,
   "metadata": {},
   "outputs": [
    {
     "name": "stdout",
     "output_type": "stream",
     "text": [
      "6\n",
      "9\n",
      "5\n",
      "10\n"
     ]
    }
   ],
   "source": [
    "import logging\n",
    "logging.basicConfig(filename='example.log', level=logging.INFO)\n",
    "\n",
    "\n",
    "def logger(func):\n",
    "    def log_func(*args):\n",
    "        logging.info(\n",
    "            'Running \"{}\" with arguments {}'.format(func.__name__, args))\n",
    "        print(func(*args))\n",
    "    return log_func\n",
    "\n",
    "\n",
    "def add(x, y):\n",
    "    return x+y\n",
    "\n",
    "\n",
    "def sub(x, y):\n",
    "    return x-y\n",
    "\n",
    "add_logger = logger(add)\n",
    "sub_logger = logger(sub)\n",
    "\n",
    "add_logger(3, 3)\n",
    "add_logger(4, 5)\n",
    "\n",
    "sub_logger(10, 5)\n",
    "sub_logger(20, 10)"
   ]
  },
  {
   "cell_type": "code",
   "execution_count": null,
   "metadata": {},
   "outputs": [],
   "source": []
  }
 ],
 "metadata": {
  "kernelspec": {
   "display_name": "Python 3",
   "language": "python",
   "name": "python3"
  },
  "language_info": {
   "codemirror_mode": {
    "name": "ipython",
    "version": 3
   },
   "file_extension": ".py",
   "mimetype": "text/x-python",
   "name": "python",
   "nbconvert_exporter": "python",
   "pygments_lexer": "ipython3",
   "version": "3.6.5"
  }
 },
 "nbformat": 4,
 "nbformat_minor": 2
}
